{
 "cells": [
  {
   "cell_type": "markdown",
   "metadata": {
    "slideshow": {
     "slide_type": "slide"
    }
   },
   "source": [
    "# Data Science 101\n",
    "* What is data science?\n",
    "* Types of problems solved\n",
    "* Tools used\n",
    "* Skillsets\n"
   ]
  },
  {
   "cell_type": "markdown",
   "metadata": {
    "slideshow": {
     "slide_type": "slide"
    }
   },
   "source": [
    "# Types of problems --- Classification/Prediction\n",
    "- [Text classification --- What type of document is this?](TextClassification.ipynb)\n",
    "- [How likely is this student to get into college X?](http://admissions-modeling.hobsons-labs.com)\n",
    "- Zillow - How how much is this home worth?"
   ]
  },
  {
   "cell_type": "markdown",
   "metadata": {
    "slideshow": {
     "slide_type": "slide"
    }
   },
   "source": [
    "# Types of problems --- Recommendation Engines\n",
    "- What's a good Active Match filter for this client?\n",
    "- What's a good college for this student?\n",
    "\n",
    "* Netflix - What movie will this person like?\n",
    "* Linked-In - Who should this person connect with?\n",
    "* Amazon - People who buy X also buy Y."
   ]
  },
  {
   "cell_type": "markdown",
   "metadata": {
    "slideshow": {
     "slide_type": "slide"
    }
   },
   "source": [
    "# Types of problems --- Clustering\n",
    "* Market segmentation"
   ]
  },
  {
   "cell_type": "markdown",
   "metadata": {
    "slideshow": {
     "slide_type": "slide"
    }
   },
   "source": [
    "# State of the art -- Deep Learning\n",
    "* Automatically captioned photos\n",
    "![](https://tctechcrunch2011.files.wordpress.com/2014/11/screen-shot-2014-11-17-at-2-11-11-pm.png?w=738)\n",
    "* Automatically coloring black and white movies\n",
    "* Adding sound effects to silent films\n",
    "* Language translation"
   ]
  },
  {
   "cell_type": "markdown",
   "metadata": {
    "collapsed": true,
    "slideshow": {
     "slide_type": "slide"
    }
   },
   "source": [
    "# Tools\n",
    "* Machine Learning and Predictive models --- R (various packages), Python (pandas, statsmodels, scikit-learn)\n",
    "* Big Data --- Hadoop ecosystem (storage), Apache Spark (computation)\n"
   ]
  },
  {
   "cell_type": "code",
   "execution_count": null,
   "metadata": {
    "collapsed": true
   },
   "outputs": [],
   "source": []
  }
 ],
 "metadata": {
  "celltoolbar": "Slideshow",
  "kernelspec": {
   "display_name": "Python 2",
   "language": "python",
   "name": "python2"
  },
  "language_info": {
   "codemirror_mode": {
    "name": "ipython",
    "version": 2
   },
   "file_extension": ".py",
   "mimetype": "text/x-python",
   "name": "python",
   "nbconvert_exporter": "python",
   "pygments_lexer": "ipython2",
   "version": "2.7.10"
  }
 },
 "nbformat": 4,
 "nbformat_minor": 1
}
