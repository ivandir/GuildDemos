{
 "cells": [
  {
   "cell_type": "markdown",
   "metadata": {
    "slideshow": {
     "slide_type": "slide"
    }
   },
   "source": [
    "# Data Science 101\n",
    "* What is data science?\n",
    "* Types of problems solved\n",
    "* Tools used\n",
    "* Skillsets\n"
   ]
  },
  {
   "cell_type": "markdown",
   "metadata": {
    "slideshow": {
     "slide_type": "slide"
    }
   },
   "source": [
    "# What is a data scientist?\n",
    "## Drew Conway's &mdash; Data Science Venn Diagram\n",
    "![](https://static1.squarespace.com/static/5150aec6e4b0e340ec52710a/t/51525c33e4b0b3e0d10f77ab/1364352052403/Data_Science_VD.png?format=750w)"
   ]
  },
  {
   "cell_type": "markdown",
   "metadata": {
    "slideshow": {
     "slide_type": "slide"
    }
   },
   "source": [
    "# What is a data scientist?\n",
    "## Josh Wills\n",
    "> Data Scientist (n.): Person who is better at statistics than any software engineer and better at software engineering than any statistician."
   ]
  },
  {
   "cell_type": "markdown",
   "metadata": {
    "slideshow": {
     "slide_type": "slide"
    }
   },
   "source": [
    "# What do they do?\n",
    "- They make predictions\n",
    "- They turn data into information and information into insights.\n",
    "- They do this by finding _correlations_ or patterns in data that can be _used for leverage_\n"
   ]
  },
  {
   "cell_type": "markdown",
   "metadata": {},
   "source": [
    "# What types of problems do they solve?\n",
    "## Some recent [Kaggle competitions](https://www.kaggle.com/competitions)\n",
    "\n",
    "### Practice Contests:\n",
    "\n",
    "- Given a photo, [predict whether it is a dog or a cat](https://www.kaggle.com/c/dogs-vs-cats-redux-kernels-edition)\n",
    "- [Determine whether two images were created by the same artist](https://www.kaggle.com/c/painter-by-numbers)\n",
    "- [Identify the digit for a handwritten digit (MNIST data)](https://www.kaggle.com/c/digit-recognizer):\n",
    "<table>\n",
    "<tr><td><img src=\"very_odd_four.png\" height=\"100\" width=\"100\"></td><td><img src=\"four_or_nine.png\" height=\"100\" width=\"100\"></td><td><img src=\"four_or_nine_2.png\" height=\"100\" width=\"100\"></td><td><img src=\"five_or_nine.png\" height=\"100\" width=\"100\"></td><td><img src=\"zero_or_nine.png\" height=\"100\" width=\"100\"></td>\n",
    "</tr>\n",
    "</table>"
   ]
  },
  {
   "cell_type": "markdown",
   "metadata": {},
   "source": [
    "### Sponsored Kaggle Contests\n",
    "- $5k &ndash; Improve the state of the art in student evaluation by [predicting whether a student will answer the next test question correctly](https://www.kaggle.com/c/WhatDoYouKnow)\n",
    "\n",
    "- $100k &ndash; [Give the text of a student essay, predict the score given to this essay](https://www.kaggle.com/c/asap-aes) by a trained rater using a rubric.\n",
    "\n",
    "- $500k &ndash; [Identify which patients will be hospitalized in the next 12 months given historical claims data](http://www.heritagehealthprize.com/c/hhp)\n",
    "\n",
    "- $100k &ndash;  [Given an image of the retina, predict a clinician’s diagnosis of diabetic retinopathy](https://www.kaggle.com/c/diabetic-retinopathy-detection) on a scale from 0 (no disease) to 5 (proliferative disease)\n",
    "\n",
    "- $70k &ndash; [Predict which customers will leave an insurance company within the next 12 months](https://www.kaggle.com/c/deloitte-churn-prediction)\n",
    "\n",
    "- $50k &ndash; (Red Hat) [Predict the potential business value of prospective customers (individuals)](https://www.kaggle.com/c/predicting-red-hat-business-value) based on the activities completed by those individuals\n",
    "\n",
    "- $10k &ndash; [Predict Parkinson’s disease progression from smartphone data (accelerometers)](https://www.kaggle.com/c/predicting-parkinson-s-disease-progression-with-smartphone-data)\n",
    "\n",
    "- $30k &ndash; [Predict who is driving a vehicle based on vehicle path data](https://www.kaggle.com/c/axa-driver-telematics-analysis)  (acceleration profiles, trip length, types and number of turns, etc.)\n",
    "\n",
    "- $1k &ndash; [Identify psychopaths based on their Twitter usage](https://www.kaggle.com/c/twitter-psychopathy-prediction)"
   ]
  },
  {
   "cell_type": "markdown",
   "metadata": {
    "slideshow": {
     "slide_type": "slide"
    }
   },
   "source": [
    "# \"Supervised\" learning &mdash; Classification/Regression\n",
    "\n",
    "- Classification and regression predict an _unknown_ variable (often a future value) from correlated _known_ variables\n",
    "\n",
    "- Classification is a discrete variable; regression is usually continuous:\n",
    "\n",
    "  * Will this student get into college X?\n",
    "  * Text classification &mdash; Document classification, [spam filters](TextClassification.ipynb)\n",
    "  * How how much is this home worth (Zillow)?\n",
    "  * Will this client renew?\n",
    "  * What is the age of the person in this photo? [how-old.net](https://how-old.net/)\n"
   ]
  },
  {
   "cell_type": "markdown",
   "metadata": {
    "slideshow": {
     "slide_type": "slide"
    }
   },
   "source": [
    "# Recommender Systems\n",
    "\n",
    "## Could be viewed as regression problems, but more like matching problems\n",
    "* Netflix - What movie will this person like?\n",
    "* Linked-In - Who should this person connect with?\n",
    "* Amazon - People who buy X also buy Y.\n",
    "\n",
    "- What's a good Active Match filter for this client?\n",
    "- What's a good college for this student?\n",
    "\n"
   ]
  },
  {
   "cell_type": "markdown",
   "metadata": {
    "slideshow": {
     "slide_type": "slide"
    }
   },
   "source": [
    "# \"Unsupervised\" learning &mdash; Clustering\n",
    "## Clustering doesn't \"predict\" anything; it finds structure in existing data:\n",
    "* Market segmentation\n",
    "* Anomaly detection (intrusion detection, fraud, impending failure, etc.)"
   ]
  },
  {
   "cell_type": "markdown",
   "metadata": {},
   "source": [
    "# Natural Language Processing (text analytics)\n",
    "- What type of document is this?\n",
    "- What is the sentiment of the writer?\n",
    "- What are the topics in this body of documents?\n",
    "- How would a person describe this photo?\n",
    "- How would a native speaker translate this phrase?"
   ]
  },
  {
   "cell_type": "markdown",
   "metadata": {
    "slideshow": {
     "slide_type": "slide"
    }
   },
   "source": [
    "# The bleeding edge &mdash; Deep Learning\n",
    "* Enabled by \n",
    "  1. New algorithms for training deep \"neural networks\"\n",
    "  2. Computers finally having enough horsepower\n",
    "\n",
    "\n",
    "* Automatically captioned photos (predict how a person would describe this photo)\n",
    "\n",
    "![](https://tctechcrunch2011.files.wordpress.com/2014/11/screen-shot-2014-11-17-at-2-11-11-pm.png?w=738)\n",
    "* [Adding sound effects to silent films](http://mashable.com/2016/06/14/artificial-intelligence-sounds-turing/#TsFac2gCtOqG)\n",
    "\n",
    "* [Automatically coloring black and white images](http://petapixel.com/2016/07/14/app-magically-turns-bw-photos-color-ones/)\n",
    "* Photo Search\n",
    "* Language translation\n"
   ]
  },
  {
   "cell_type": "markdown",
   "metadata": {},
   "source": [
    "# Tools\n",
    "* Machine Learning and Predictive models &mdash; R (various packages), [Python (pandas, statsmodels, scikit-learn)](titanic.ipynb), Apache Spark's MLLib, [Vowpal Wabbit](https://en.wikipedia.org/wiki/Vowpal_Wabbit), [XGBoost](http://xgboost.readthedocs.io/en/latest/model.html)\n",
    "* Deep Learning &mdash; Tensorflow, Theano\n",
    "* Big Data &mdash; Hadoop ecosystem (storage), Apache Spark (computation)"
   ]
  },
  {
   "cell_type": "markdown",
   "metadata": {
    "collapsed": true,
    "slideshow": {
     "slide_type": "slide"
    }
   },
   "source": [
    "# Resources\n",
    "\n",
    "* [Kaggle](https://www.kaggle.com/competitions)\n",
    "* [How to Learn Data Science by Vik Paruchuri](https://www.youtube.com/watch?v=Ura_ioOcpQI) (I really agree with his philosophy)\n",
    "* [Mathematicalmonk's Youtube Series on Machine Learning (excellent, but a bit mathematical](https://www.youtube.com/playlist?list=PLD0F06AA0D2E8FFBA)\n",
    "* [Andrew Ng's Courserra Course](https://www.coursera.org/learn/machine-learning) (Ng specializes in deep learning)"
   ]
  },
  {
   "cell_type": "code",
   "execution_count": null,
   "metadata": {
    "collapsed": true
   },
   "outputs": [],
   "source": []
  }
 ],
 "metadata": {
  "celltoolbar": "Slideshow",
  "kernelspec": {
   "display_name": "Python 2",
   "language": "python",
   "name": "python2"
  },
  "language_info": {
   "codemirror_mode": {
    "name": "ipython",
    "version": 2
   },
   "file_extension": ".py",
   "mimetype": "text/x-python",
   "name": "python",
   "nbconvert_exporter": "python",
   "pygments_lexer": "ipython2",
   "version": "2.7.10"
  }
 },
 "nbformat": 4,
 "nbformat_minor": 1
}
