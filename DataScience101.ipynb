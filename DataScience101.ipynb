{
 "cells": [
  {
   "cell_type": "markdown",
   "metadata": {
    "slideshow": {
     "slide_type": "slide"
    }
   },
   "source": [
    "# Data Science 101\n",
    "* What is data science?\n",
    "* Types of problems solved\n",
    "* Tools used\n",
    "* Skillsets\n"
   ]
  },
  {
   "cell_type": "markdown",
   "metadata": {
    "slideshow": {
     "slide_type": "slide"
    }
   },
   "source": [
    "# What is a data scientist?\n",
    "## Drew Conway's &mdash; Data Science Venn Diagram\n",
    "![](https://static1.squarespace.com/static/5150aec6e4b0e340ec52710a/t/51525c33e4b0b3e0d10f77ab/1364352052403/Data_Science_VD.png?format=750w)"
   ]
  },
  {
   "cell_type": "markdown",
   "metadata": {
    "slideshow": {
     "slide_type": "slide"
    }
   },
   "source": [
    "# What is a data scientist?\n",
    "## Josh Wills\n",
    "> Person who is better at statistics than any software engineer and better at software engineering than any statistician."
   ]
  },
  {
   "cell_type": "markdown",
   "metadata": {
    "slideshow": {
     "slide_type": "slide"
    }
   },
   "source": [
    "# What do they do?\n",
    "- They turn data into information and information into insights.\n",
    "- They do this by finding _correlations_ or patterns in data that can be _used for leverage_"
   ]
  },
  {
   "cell_type": "markdown",
   "metadata": {
    "slideshow": {
     "slide_type": "slide"
    }
   },
   "source": [
    "# Types of problems &mdash; Classification/Prediction\n",
    "\n",
    "## Classification and prediction mean predicting an _unknown_ variable (often a future value) from correlated _known_ variables:\n",
    "- [Will this student get into college X?](http://admissions-modeling.hobsons-labs.com)\n",
    "- Text classification &mdash; Document classification, [spam filters](TextClassification.ipynb)\n",
    "- How how much is this home worth (Zillow)?\n",
    "- Will this client renew?\n",
    "- What is the age of the person in this photo? [how-old.net](https://how-old.net/)\n",
    "- How would a person describe this photo?\n",
    "- How would a native speaker translate this phrase?"
   ]
  },
  {
   "cell_type": "markdown",
   "metadata": {
    "slideshow": {
     "slide_type": "slide"
    }
   },
   "source": [
    "# Types of problems &mdash; Recommender Systems\n",
    "- What's a good Active Match filter for this client?\n",
    "- What's a good college for this student?\n",
    "\n",
    "* Netflix - What movie will this person like?\n",
    "* Linked-In - Who should this person connect with?\n",
    "* Amazon - People who buy X also buy Y."
   ]
  },
  {
   "cell_type": "markdown",
   "metadata": {
    "slideshow": {
     "slide_type": "slide"
    }
   },
   "source": [
    "# Types of problems &mdash; Clustering\n",
    "Clustering doesn't \"predict\" anything; it finds structure in existing data\n",
    "* Market segmentation\n",
    "* Anomaly detection (intrusion detection, fraud, impending failure, etc.)"
   ]
  },
  {
   "cell_type": "markdown",
   "metadata": {
    "slideshow": {
     "slide_type": "slide"
    }
   },
   "source": [
    "# State of the art &mdash; Deep Learning\n",
    "* Automatically captioned photos\n",
    "\n",
    "![](https://tctechcrunch2011.files.wordpress.com/2014/11/screen-shot-2014-11-17-at-2-11-11-pm.png?w=738)\n",
    "* [Adding sound effects to silent films](http://mashable.com/2016/06/14/artificial-intelligence-sounds-turing/#TsFac2gCtOqG)\n",
    "\n",
    "* [Automatically coloring black and white images](http://petapixel.com/2016/07/14/app-magically-turns-bw-photos-color-ones/)\n",
    "* Photo Search\n",
    "* Language translation\n"
   ]
  },
  {
   "cell_type": "markdown",
   "metadata": {
    "collapsed": true,
    "slideshow": {
     "slide_type": "slide"
    }
   },
   "source": [
    "# Tools\n",
    "* Machine Learning and Predictive models &mdash; R (various packages), [Python (pandas, statsmodels, scikit-learn)](titanic.ipynb), Apache Spark's MLLib\n",
    "* Deep Learning &mdash; Tensorflow, Theano\n",
    "* Big Data &mdash; Hadoop ecosystem (storage), Apache Spark (computation)\n"
   ]
  },
  {
   "cell_type": "code",
   "execution_count": null,
   "metadata": {
    "collapsed": true
   },
   "outputs": [],
   "source": []
  }
 ],
 "metadata": {
  "celltoolbar": "Slideshow",
  "kernelspec": {
   "display_name": "Python 2",
   "language": "python",
   "name": "python2"
  },
  "language_info": {
   "codemirror_mode": {
    "name": "ipython",
    "version": 2
   },
   "file_extension": ".py",
   "mimetype": "text/x-python",
   "name": "python",
   "nbconvert_exporter": "python",
   "pygments_lexer": "ipython2",
   "version": "2.7.10"
  }
 },
 "nbformat": 4,
 "nbformat_minor": 1
}
