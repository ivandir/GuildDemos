{
 "cells": [
  {
   "cell_type": "markdown",
   "metadata": {
    "slideshow": {
     "slide_type": "slide"
    }
   },
   "source": [
    "# Data Science 101\n",
    "* What is data science?\n",
    "* Types of problems solved\n",
    "* Tools used\n",
    "* Skillsets\n"
   ]
  },
  {
   "cell_type": "markdown",
   "metadata": {
    "slideshow": {
     "slide_type": "slide"
    }
   },
   "source": [
    "# What is a data scientist?\n",
    "## Drew Conway's &mdash; Data Science Venn Diagram\n",
    "![](https://static1.squarespace.com/static/5150aec6e4b0e340ec52710a/t/51525c33e4b0b3e0d10f77ab/1364352052403/Data_Science_VD.png?format=750w)"
   ]
  },
  {
   "cell_type": "markdown",
   "metadata": {
    "slideshow": {
     "slide_type": "slide"
    }
   },
   "source": [
    "# What is a data scientist?\n",
    "## Josh Wills\n",
    "> Person who is better at statistics than any software engineer and better at software engineering than any statistician."
   ]
  },
  {
   "cell_type": "markdown",
   "metadata": {
    "slideshow": {
     "slide_type": "slide"
    }
   },
   "source": [
    "# What do they do?\n",
    "- They make predictions\n",
    "- They turn data into information and information into insights.\n",
    "- They do this by finding _correlations_ or patterns in data that can be _used for leverage_"
   ]
  },
  {
   "cell_type": "markdown",
   "metadata": {},
   "source": [
    "# What types of problems do they solve?\n",
    "## Some recent [Kaggle competitions](https://www.kaggle.com/competitions)\n",
    "\n",
    "### Practice Contests:\n",
    "\n",
    "- Given a photo, predict whether it is a dog or a cat\n",
    "- Determine whether two images were created by the same artist\n",
    "- Identify the digit for a handwritten digit (MNIST data)"
   ]
  },
  {
   "cell_type": "markdown",
   "metadata": {},
   "source": [
    "### Sponsored Kaggle Contests\n",
    "\n",
    "- $500k &ndash; Identify which patients will be hospitalized in the next 12 months given historical claims data\n",
    "\n",
    "- $100k &ndash;  Given an image of the retina, predict a clinician’s diagnosis of diabetic retinopathy on a scale from 0 (no disease) to 5 (proliferative disease)\n",
    "\n",
    "- $100k &ndash; Give the text of a student essay, predict the score given to this essay by a trained rater using a rubric.\n",
    "\n",
    "- $70k &ndash; Predict which customers will leave an insurance company within the next 12 months\n",
    "\n",
    "- $50k &ndash; (Red Hat) Predict the potential business value of prospective customers (individuals) based on the activities completed by those individuals\n",
    "\n",
    "- $10k &ndash; Predict Parkinson’s disease progression from smartphone data (accelerometers)\n",
    "\n",
    "- $30k &ndash; Predict who is driving a vehicle based on vehicle path data  (acceleration profiles, trip length, types and number of turns, etc.)\n",
    "\n",
    "- $1k &ndash; Identify psychopaths based on their Twitter usage"
   ]
  },
  {
   "cell_type": "markdown",
   "metadata": {
    "slideshow": {
     "slide_type": "slide"
    }
   },
   "source": [
    "# \"Supervised\" learning &mdash; Classification/Regression\n",
    "\n",
    "- Classification and regression predict an _unknown_ variable (often a future value) from correlated _known_ variables\n",
    "\n",
    "- Classification is a discrete variable; regression is usually continuous:\n",
    "\n",
    "  * [Will this student get into college X?](http://admissions-modeling.hobsons-labs.com)\n",
    "  * Text classification &mdash; Document classification, [spam filters](TextClassification.ipynb)\n",
    "  * How how much is this home worth (Zillow)?\n",
    "  * Will this client renew?\n",
    "  * What is the age of the person in this photo? [how-old.net](https://how-old.net/)\n"
   ]
  },
  {
   "cell_type": "markdown",
   "metadata": {
    "slideshow": {
     "slide_type": "slide"
    }
   },
   "source": [
    "# Recommender Systems\n",
    "\n",
    "## Could be viewed as regression problems, but more like matching problems\n",
    "* Netflix - What movie will this person like?\n",
    "* Linked-In - Who should this person connect with?\n",
    "* Amazon - People who buy X also buy Y.\n",
    "\n",
    "- What's a good Active Match filter for this client?\n",
    "- What's a good college for this student?\n",
    "\n"
   ]
  },
  {
   "cell_type": "markdown",
   "metadata": {
    "slideshow": {
     "slide_type": "slide"
    }
   },
   "source": [
    "# \"Unsupervised\" learning &mdash; Clustering\n",
    "## Clustering doesn't \"predict\" anything; it finds structure in existing data:\n",
    "* Market segmentation\n",
    "* Anomaly detection (intrusion detection, fraud, impending failure, etc.)"
   ]
  },
  {
   "cell_type": "markdown",
   "metadata": {},
   "source": [
    "# Natural Language Processing (text analytics)\n",
    "- What type of document is this?\n",
    "- What is the sentiment of the writer?\n",
    "- What are the topics in this body of documents?\n",
    "- How would a person describe this photo?\n",
    "- How would a native speaker translate this phrase?"
   ]
  },
  {
   "cell_type": "markdown",
   "metadata": {
    "slideshow": {
     "slide_type": "slide"
    }
   },
   "source": [
    "# The bleeding edge &mdash; Deep Learning\n",
    "* Enabled by \n",
    "  1. New algorithms for training deep \"neural networks\"\n",
    "  2. Computers finally having enough horsepower\n",
    "\n",
    "\n",
    "* Automatically captioned photos (predict how a person would describe this photo)\n",
    "\n",
    "![](https://tctechcrunch2011.files.wordpress.com/2014/11/screen-shot-2014-11-17-at-2-11-11-pm.png?w=738)\n",
    "* [Adding sound effects to silent films](http://mashable.com/2016/06/14/artificial-intelligence-sounds-turing/#TsFac2gCtOqG)\n",
    "\n",
    "* [Automatically coloring black and white images](http://petapixel.com/2016/07/14/app-magically-turns-bw-photos-color-ones/)\n",
    "* Photo Search\n",
    "* Language translation\n"
   ]
  },
  {
   "cell_type": "markdown",
   "metadata": {
    "collapsed": true,
    "slideshow": {
     "slide_type": "slide"
    }
   },
   "source": [
    "# Tools\n",
    "* Machine Learning and Predictive models &mdash; R (various packages), [Python (pandas, statsmodels, scikit-learn)](titanic.ipynb), Apache Spark's MLLib\n",
    "* Deep Learning &mdash; Tensorflow, Theano\n",
    "* Big Data &mdash; Hadoop ecosystem (storage), Apache Spark (computation)\n"
   ]
  },
  {
   "cell_type": "code",
   "execution_count": null,
   "metadata": {
    "collapsed": true
   },
   "outputs": [],
   "source": []
  }
 ],
 "metadata": {
  "celltoolbar": "Slideshow",
  "kernelspec": {
   "display_name": "Python 2",
   "language": "python",
   "name": "python2"
  },
  "language_info": {
   "codemirror_mode": {
    "name": "ipython",
    "version": 2
   },
   "file_extension": ".py",
   "mimetype": "text/x-python",
   "name": "python",
   "nbconvert_exporter": "python",
   "pygments_lexer": "ipython2",
   "version": "2.7.10"
  }
 },
 "nbformat": 4,
 "nbformat_minor": 1
}
