{
 "cells": [
  {
   "cell_type": "code",
   "execution_count": null,
   "metadata": {
    "collapsed": false,
    "slideshow": {
     "slide_type": "skip"
    }
   },
   "outputs": [],
   "source": [
    "from IPython.html.services.config import ConfigManager\n",
    "from IPython.utils.path import locate_profile\n",
    "cm = ConfigManager(profile_dir=locate_profile(get_ipython().profile))\n",
    "cm.update('livereveal', {\n",
    "              'theme': 'sans-serif',\n",
    "              'transition': 'zoom',\n",
    "              'start_slideshow_at': 'selected',\n",
    "})\n",
    "\n",
    "cm.update('livereveal', {\n",
    "              'scroll': True,\n",
    "})\n",
    "\n",
    "cm.update('livereveal', {\n",
    "             'width': None,\n",
    "             'height': None,\n",
    "});"
   ]
  },
  {
   "cell_type": "markdown",
   "metadata": {
    "slideshow": {
     "slide_type": "slide"
    }
   },
   "source": [
    "# Agenda\n",
    "\n",
    "* Introduction\n",
    "* Data Science 101\n",
    "* Where do we go from here?"
   ]
  },
  {
   "cell_type": "markdown",
   "metadata": {
    "slideshow": {
     "slide_type": "slide"
    }
   },
   "source": [
    "# Data Science 101\n",
    "\n",
    "&nbsp;\n",
    "&nbsp;\n",
    "\n",
    "## Mark Wicks"
   ]
  },
  {
   "cell_type": "markdown",
   "metadata": {
    "slideshow": {
     "slide_type": "slide"
    }
   },
   "source": [
    "# Goals\n",
    "* What is data science?\n",
    "\n",
    "* Types of problems solved\n",
    "\n",
    "* Tools used\n",
    "\n",
    "* How to get started with some simple tools\n",
    "\n",
    "* Important skillsets"
   ]
  },
  {
   "cell_type": "markdown",
   "metadata": {
    "slideshow": {
     "slide_type": "slide"
    }
   },
   "source": [
    "# What is a data scientist?\n",
    "\n",
    "&nbsp;\n",
    "\n",
    "## Josh Wills:\n",
    "> Data Scientist (n.): Person who is better at statistics than any software engineer and better at software engineering than any statistician."
   ]
  },
  {
   "cell_type": "markdown",
   "metadata": {
    "slideshow": {
     "slide_type": "slide"
    }
   },
   "source": [
    "# What is a data scientist?\n",
    "## Drew Conway's &mdash; Data Science Venn Diagram\n",
    "<DIV ALIGN=\"CENTER\"><IMG SRC=\"https://static1.squarespace.com/static/5150aec6e4b0e340ec52710a/t/51525c33e4b0b3e0d10f77ab/1364352052403/Data_Science_VD.png?format=750w\"/>\n",
    "</DIV>"
   ]
  },
  {
   "cell_type": "markdown",
   "metadata": {
    "slideshow": {
     "slide_type": "slide"
    }
   },
   "source": [
    "# What do they do?\n",
    "\n",
    "### They use technology and their knowledge of statistics to\n",
    "\n",
    "- Make predictions"
   ]
  },
  {
   "cell_type": "markdown",
   "metadata": {
    "slideshow": {
     "slide_type": "fragment"
    }
   },
   "source": [
    "- Turn data into information and information into insights."
   ]
  },
  {
   "cell_type": "markdown",
   "metadata": {
    "slideshow": {
     "slide_type": "fragment"
    }
   },
   "source": [
    "- Find _correlations_ or patterns in data that can be _used for \"lift\" or leverage_ (i.e., allocating resources where they have the biggest effect)"
   ]
  },
  {
   "cell_type": "markdown",
   "metadata": {
    "slideshow": {
     "slide_type": "slide"
    }
   },
   "source": [
    "# What types of problems do data scientists do solve?\n",
    "&nbsp;"
   ]
  },
  {
   "cell_type": "markdown",
   "metadata": {
    "slideshow": {
     "slide_type": "fragment"
    }
   },
   "source": [
    "## Let's start by looking at [Kaggle competitions](https://www.kaggle.com/competitions)!\n",
    "&nbsp;"
   ]
  },
  {
   "cell_type": "markdown",
   "metadata": {
    "slideshow": {
     "slide_type": "slide"
    }
   },
   "source": [
    "### Practice Contests:\n",
    "\n",
    "- Given a photo, [predict whether it is a dog or a cat](https://www.kaggle.com/c/dogs-vs-cats-redux-kernels-edition)\n",
    "- [Determine whether two images were created by the same artist](https://www.kaggle.com/c/painter-by-numbers)\n",
    "- [Identify a handwritten digit (MNIST data)](https://www.kaggle.com/c/digit-recognizer):\n",
    "&nbsp;\n",
    "\n",
    "<div align=\"center\">\n",
    "<img>\n",
    "<img style=\"display:inline-block\" src=\"images/very_odd_four.png\" width=\"120\"/>\n",
    "<img style=\"display:inline-block\" src=\"images/four_or_nine.png\" width=\"120\"/>\n",
    "<img style=\"display:inline-block\" src=\"images/four_or_nine_2.png\" width=\"120\"/>\n",
    "<img style=\"display:inline-block\" src=\"images/five_or_nine.png\"  width=\"120\"/>\n",
    "<img style=\"display:inline-block\" src=\"images/zero_or_nine.png\"  width=\"120\"/>\n",
    "</div>\n"
   ]
  },
  {
   "cell_type": "markdown",
   "metadata": {
    "slideshow": {
     "slide_type": "slide"
    }
   },
   "source": [
    "### Sponsored Kaggle Contests:\n",
    "- $5k &ndash; [Predict whether a student will answer the next test question correctly](https://www.kaggle.com/c/WhatDoYouKnow)"
   ]
  },
  {
   "cell_type": "markdown",
   "metadata": {
    "slideshow": {
     "slide_type": "fragment"
    }
   },
   "source": [
    "- $100k &ndash; [Give the text of a student essay, predict the score a trained rater gave this essay](https://www.kaggle.com/c/asap-aes) using a rubric."
   ]
  },
  {
   "cell_type": "markdown",
   "metadata": {
    "slideshow": {
     "slide_type": "fragment"
    }
   },
   "source": [
    "- $500k &ndash; [Identify which patients will be hospitalized in the next 12 months from historical claims](http://www.heritagehealthprize.com/c/hhp)"
   ]
  },
  {
   "cell_type": "markdown",
   "metadata": {
    "slideshow": {
     "slide_type": "fragment"
    }
   },
   "source": [
    "- $100k &ndash;  [Given an image of the retina, predict a clinician’s diagnosis of diabetic retinopathy](https://www.kaggle.com/c/diabetic-retinopathy-detection)"
   ]
  },
  {
   "cell_type": "markdown",
   "metadata": {
    "slideshow": {
     "slide_type": "slide"
    }
   },
   "source": [
    "### More Sponsored Kaggle Contests:\n",
    "- $70k &ndash; [Predict which customers will leave an insurance company within the next 12 months](https://www.kaggle.com/c/deloitte-churn-prediction)\n",
    "\n",
    "- $50k &ndash; (Red Hat) [Predict the potential business value of prospective customers (individuals)](https://www.kaggle.com/c/predicting-red-hat-business-value) based on the activities completed by those individuals\n",
    "\n",
    "- $10k &ndash; [Predict Parkinson’s disease progression from smartphone data (accelerometers)](https://www.kaggle.com/c/predicting-parkinson-s-disease-progression-with-smartphone-data)\n",
    "\n",
    "- $30k &ndash; [Predict who is driving a vehicle based on vehicle path data](https://www.kaggle.com/c/axa-driver-telematics-analysis)  (acceleration profiles, trip length, types and number of turns, etc.)\n",
    "\n",
    "- $1k &ndash; [Identify psychopaths from their Twitter usage](https://www.kaggle.com/c/twitter-psychopathy-prediction)"
   ]
  },
  {
   "cell_type": "markdown",
   "metadata": {
    "slideshow": {
     "slide_type": "slide"
    }
   },
   "source": [
    "# Terminology\n",
    "* *Machine Learning* is a catch-all phrase that encompasses many techniques where you build models from data\n",
    "* Values used to make predictions may be called *predictors*, *covariates*, *features*, *explanatory variables*, *factors*, or *independent variables*\n",
    "* The variable you are trying to predict may be called the *target*, *response*, or *dependent variable*\n",
    "* Variables may be *continuous*, *categorical*, or *discrete*\n",
    "* *Classification:* the target variable is *categorical*\n",
    "* *Regression:* the target variable is normally *continuous*"
   ]
  },
  {
   "cell_type": "markdown",
   "metadata": {
    "slideshow": {
     "slide_type": "slide"
    }
   },
   "source": [
    "# \"Supervised\" learning &mdash; Classification/Regression\n",
    "\n",
    "- Classification and regression predict an _unknown_ variable (often a future value) from correlated _known_ variables.\n",
    "- Supervised means you provide examples with the \"correct\" answer and train the machine to find the pattern that produces that answer."
   ]
  },
  {
   "cell_type": "markdown",
   "metadata": {
    "slideshow": {
     "slide_type": "slide"
    }
   },
   "source": [
    "*Examples*:\n",
    "\n",
    "  * Will this student get into college X?\n",
    " "
   ]
  },
  {
   "cell_type": "markdown",
   "metadata": {
    "slideshow": {
     "slide_type": "fragment"
    }
   },
   "source": [
    " * Text classification &mdash; Document classification, [spam filters](TextClassification.ipynb)\n",
    " * How how much is this home worth (Zillow)?\n",
    " * Will this client renew?\n",
    " * Will this prospective client buy (i.e., lead scoring)?\n",
    " * What is the age of the person in this photo? [how-old.net](https://how-old.net/)"
   ]
  },
  {
   "cell_type": "markdown",
   "metadata": {
    "slideshow": {
     "slide_type": "slide"
    }
   },
   "source": [
    "* Most common *regression* technique: *Linear Regression*\n",
    "* Popular *classification* techniques:\n",
    "  - Decision Trees (DT)\n",
    "  - k-Nearest Neighbors (k-NN)\n",
    "  - Logistic Regression (LR)\n",
    "  - Naive Bayes (NB)\n",
    "  - Neural Networks (NN)\n",
    "  - Support Vector Machines (SVM)\n",
    "  - Ensembles of some of the above\n",
    " "
   ]
  },
  {
   "cell_type": "markdown",
   "metadata": {
    "slideshow": {
     "slide_type": "slide"
    }
   },
   "source": [
    "### Classification &mdash; one approach\n",
    "<img src=\"images/example2_0.png\">"
   ]
  },
  {
   "cell_type": "markdown",
   "metadata": {
    "slideshow": {
     "slide_type": "subslide"
    }
   },
   "source": [
    "### Classification &mdash; one approach\n",
    "<img src=\"images/example2_1.png\">"
   ]
  },
  {
   "cell_type": "markdown",
   "metadata": {
    "slideshow": {
     "slide_type": "subslide"
    }
   },
   "source": [
    "### Classification &mdash; one approach\n",
    "<img src=\"images/example2_2.png\">"
   ]
  },
  {
   "cell_type": "markdown",
   "metadata": {
    "slideshow": {
     "slide_type": "slide"
    }
   },
   "source": [
    "# Example:\n",
    "\n",
    "## Classification using a decision tree &mdash; [Predict who survived on the Titanic](titanic.ipynb) - (Kaggle Data)"
   ]
  },
  {
   "cell_type": "markdown",
   "metadata": {
    "slideshow": {
     "slide_type": "slide"
    }
   },
   "source": [
    "# Linear regression example\n",
    "\n",
    "Andreas Muller  &ndash; Education, income inequality, and mortality: a multiple regression analysis, BMJ 2002;324:23:\n",
    "![test](images/F2.large.jpg)"
   ]
  },
  {
   "cell_type": "markdown",
   "metadata": {
    "slideshow": {
     "slide_type": "slide"
    }
   },
   "source": [
    "## \"Unsupervised\" learning &mdash; Clustering\n",
    "&nbsp;\n",
    "## Clustering doesn't \"predict\" anything; it finds structure in existing data:\n",
    "* Market segmentation\n",
    "* Anomaly detection (intrusion detection, fraud, impending failure, etc.)"
   ]
  },
  {
   "cell_type": "markdown",
   "metadata": {
    "slideshow": {
     "slide_type": "slide"
    }
   },
   "source": [
    "# Recommender Systems\n",
    "&nbsp;\n",
    "### Can be viewed as regression problems, but more like matching problems\n",
    "* Netflix - What movie will this person like?\n",
    "* LinkedIn - Who should this person connect with?\n",
    "* Amazon - People who buy X also buy Y.\n",
    "\n",
    "- What's a good Active Match filter for this client?\n",
    "- What's a good college for this student?\n",
    "\n"
   ]
  },
  {
   "cell_type": "markdown",
   "metadata": {
    "slideshow": {
     "slide_type": "slide"
    }
   },
   "source": [
    "# Natural Language Processing (text analytics)\n",
    "- What type of document is this?\n",
    "- What is the sentiment of the writer?\n",
    "- What are the topics in this body of documents?\n",
    "- How would a person describe this photo?\n",
    "- How would a native speaker translate this phrase?"
   ]
  },
  {
   "cell_type": "markdown",
   "metadata": {
    "slideshow": {
     "slide_type": "slide"
    }
   },
   "source": [
    "# The Bleeding Edge &mdash; Deep Learning\n",
    "\n",
    "Huge recent progress enabled by \n",
    "  -  Breakthrough algorithms for training \"deep\" neural networks ([Geoff Hinton's 2006 work](https://www.google.com/url?sa=t&rct=j&q=&esrc=s&source=web&cd=1&cad=rja&uact=8&ved=0ahUKEwjP4smD_PjPAhUE8j4KHZV4AVIQFggcMAA&url=http%3A%2F%2Fwww.cs.toronto.edu%2F~hinton%2Fabsps%2Ffastnc.pdf&usg=AFQjCNHe0TzJEzNbvYX-3W8eobekVLXWLg))\n",
    "  - Computers finally having enough horsepower (GPUs, Theano, Hadoop, etc.)\n",
    " "
   ]
  },
  {
   "cell_type": "markdown",
   "metadata": {
    "slideshow": {
     "slide_type": "slide"
    }
   },
   "source": [
    "# Deep Learning Applications\n",
    "\n",
    "* Predict how a person would describe these photos: ![](https://tctechcrunch2011.files.wordpress.com/2014/11/screen-shot-2014-11-17-at-2-11-11-pm.png?w=738)"
   ]
  },
  {
   "cell_type": "markdown",
   "metadata": {
    "slideshow": {
     "slide_type": "slide"
    }
   },
   "source": [
    "## Deep Learning Applications\n",
    "&nbsp;\n",
    "[Colorizing B&W photos:](http://petapixel.com/2016/07/14/app-magically-turns-bw-photos-color-ones/)\n",
    "<div align=\"center\">\n",
    "<img>\n",
    "<img style=\"display:inline-block\" src=\"images/dog.jpg\" width=\"480\"/>\n",
    "<img style=\"display:inline-block\" src=\"images/dog_colored.png\" width=\"480\"/>\n",
    "</div>"
   ]
  },
  {
   "cell_type": "markdown",
   "metadata": {
    "slideshow": {
     "slide_type": "slide"
    }
   },
   "source": [
    "\n",
    "  \n",
    "# More Deep Learning Applications\n",
    "* [Adding sound effects to silent films](http://mashable.com/2016/06/14/artificial-intelligence-sounds-turing/#TsFac2gCtOqG)\n",
    "* Photo Search\n",
    "* Language translation"
   ]
  },
  {
   "cell_type": "markdown",
   "metadata": {
    "slideshow": {
     "slide_type": "slide"
    }
   },
   "source": [
    "# Tools\n",
    "* Machine Learning and Predictive models &mdash; [Python (pandas, statsmodels, scikit-learn)](titanic.ipynb),  R (various packages), Apache Spark's MLLib (Python and Scala API), [Vowpal Wabbit](https://en.wikipedia.org/wiki/Vowpal_Wabbit), [Weka](http://www.cs.waikato.ac.nz/ml/weka/) (Java and a GUI),  [XGBoost](http://xgboost.readthedocs.io/en/latest/model.html), [IBM Watson](http://www.ibm.com/watson/developercloud/)\n",
    "* Deep Learning &mdash; Tensorflow, Theano (some assembly required)\n",
    "* Visualization &mdash; Matplotlib (Python), D3 (JavaScript), R, plotly, Tableau\n",
    "* Big Data Technologies (e.g., Hadoop) &mdash; HDFS (storage), MapReduce/Apache Spark (computation), HBase (NoSQL based on Google BigTable), Hive/Drill/Impala (SQL)"
   ]
  },
  {
   "cell_type": "markdown",
   "metadata": {
    "collapsed": true,
    "slideshow": {
     "slide_type": "slide"
    }
   },
   "source": [
    "# Additional Resources\n",
    "\n",
    "* [Kaggle](https://www.kaggle.com/competitions)\n",
    "* [How to Learn Data Science by Vik Paruchuri](https://www.youtube.com/watch?v=Ura_ioOcpQI)\n",
    "* [Mathematicalmonk's Youtube Series on Machine Learning](https://www.youtube.com/playlist?list=PLD0F06AA0D2E8FFBA) (excellent, but fairly mathematical)\n",
    "* Local meetups &mdash; If you're in DC there's Data Science DC, Data Driven DC, and Washington DC Area Apache Spark Interactive\n",
    "* [Andrew Ng's Courserra Course](https://www.coursera.org/learn/machine-learning) (Ng specializes in deep learning)"
   ]
  },
  {
   "cell_type": "markdown",
   "metadata": {
    "collapsed": true,
    "slideshow": {
     "slide_type": "slide"
    }
   },
   "source": [
    "# Thank you!"
   ]
  }
 ],
 "metadata": {
  "celltoolbar": "Slideshow",
  "kernelspec": {
   "display_name": "Python 2",
   "language": "python",
   "name": "python2"
  },
  "language_info": {
   "codemirror_mode": {
    "name": "ipython",
    "version": 2
   },
   "file_extension": ".py",
   "mimetype": "text/x-python",
   "name": "python",
   "nbconvert_exporter": "python",
   "pygments_lexer": "ipython2",
   "version": "2.7.10"
  }
 },
 "nbformat": 4,
 "nbformat_minor": 1
}
