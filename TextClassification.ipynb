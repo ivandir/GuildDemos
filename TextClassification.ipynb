{
 "cells": [
  {
   "cell_type": "markdown",
   "metadata": {
    "slideshow": {
     "slide_type": "slide"
    }
   },
   "source": [
    "# Text analytics using Scikit-learn\n",
    "\n",
    "&nbsp;\n",
    "&nbsp;\n",
    "\n",
    "## Mark Wicks"
   ]
  },
  {
   "cell_type": "markdown",
   "metadata": {
    "slideshow": {
     "slide_type": "slide"
    }
   },
   "source": [
    "# Goals for this session\n",
    "\n",
    "* Dive deeper into Jupyter notebooks\n",
    "\n",
    "* Describe steps in solving data science problems\n",
    "\n",
    "* Introduce Scikit-Learn API\n",
    "\n",
    "* Build a simple document classifier using Scikit-Learn\n"
   ]
  },
  {
   "cell_type": "markdown",
   "metadata": {
    "slideshow": {
     "slide_type": "slide"
    }
   },
   "source": [
    "### Steps to build a typical prediction model\n",
    "\n",
    "1. Get your data (and clean it up if necessary).\n",
    "2. RANDOMLY split your data into training, test, and validation sets. Test set is used to ensure that patterns learned are not unique to the training data. Validation set is used to tune the model. (Also check out [cross-validation](https://en.wikipedia.org/wiki/Cross-validation_(statistics)))\n",
    "2. Extract features from your data\n",
    "3. Build a preliminary model\n",
    "4. Evaluate the model on the validation data\n",
    "5. If not satisfied, adjust \"tunable\" training parameters (e.g, tree depth, feature selection, etc.) and go to 3 or 4.\n",
    "6. Evalute the final model performance on the test data.\n",
    "\n",
    "Note: Today we'll use the same data for testing and validation. "
   ]
  },
  {
   "cell_type": "markdown",
   "metadata": {
    "slideshow": {
     "slide_type": "slide"
    }
   },
   "source": [
    "### Introduction to the Scikit-Learn API\n",
    "\n",
    "* Most Classifiers, regressors, and feature extractors/transformers share a common API"
   ]
  },
  {
   "cell_type": "markdown",
   "metadata": {
    "slideshow": {
     "slide_type": "slide"
    }
   },
   "source": [
    "### Feature extraction/transformation:\n",
    "\n",
    "      # Choose an extractor right for the data\n",
    "      extractor = sklearn.some_extractor()\n",
    "\n",
    "      # Learn some features from the data\n",
    "      extractor.fit(training_data) \n",
    "\n",
    "      # Extract features from the data\n",
    "      features = extractor.transform(new_data)  \n",
    "\n",
    "      # Or combine previous two steps\n",
    "      features = extractor.fit_transform(data)\n",
    "\n",
    "##### Note: Data and features are represented by various type of Python arrays/matrices"
   ]
  },
  {
   "cell_type": "markdown",
   "metadata": {
    "slideshow": {
     "slide_type": "slide"
    }
   },
   "source": [
    "### Classification/regression\n",
    " \n",
    "    # Choose a classifier\n",
    "    cfier = sklearn.some_classifier()\n",
    "\n",
    "    # Build a model\n",
    "    cfier.fit(training_features, training_labels)\n",
    "\n",
    "    # Make predictions\n",
    "    predicted_labels = cfier.predict(new_features)\n",
    "   \n",
    "    # Make predictions as probabilities\n",
    "    probabilities = cfier.predict_proba(new_features)\n"
   ]
  },
  {
   "cell_type": "markdown",
   "metadata": {
    "slideshow": {
     "slide_type": "slide"
    }
   },
   "source": [
    "# Example: Feature extraction/transformation"
   ]
  },
  {
   "cell_type": "code",
   "execution_count": 3,
   "metadata": {
    "collapsed": false,
    "scrolled": true,
    "slideshow": {
     "slide_type": "fragment"
    }
   },
   "outputs": [
    {
     "name": "stdout",
     "output_type": "stream",
     "text": [
      "[0 2 2 1]\n",
      "[1 0 1 2 0 2]\n"
     ]
    }
   ],
   "source": [
    "import sklearn.preprocessing\n",
    "extractor = sklearn.preprocessing.LabelEncoder()\n",
    "\n",
    "# Learn some features from the data\n",
    "extractor.fit(\n",
    "    ['CA', 'AZ', 'CA', 'DE', 'AZ', 'DE']) \n",
    "\n",
    "# Extract features from the data\n",
    "features = extractor.transform(\n",
    "    ['AZ', 'DE', 'DE', 'CA'])  \n",
    "print(features)\n",
    "\n",
    "# Or combine previous two steps (when data is the same)\n",
    "features = extractor.fit_transform(\n",
    "    ['CA', 'AZ', 'CA', 'DE', 'AZ', 'DE'])\n",
    "\n",
    "print(features)\n"
   ]
  },
  {
   "cell_type": "markdown",
   "metadata": {
    "slideshow": {
     "slide_type": "slide"
    }
   },
   "source": [
    "# Word counts are common features in text analyzers:\n",
    "\n",
    "We'll use a CountVectorizer() to learn the words in some sample data.  Then we'll extract a feature vector for some sample text."
   ]
  },
  {
   "cell_type": "code",
   "execution_count": 87,
   "metadata": {
    "collapsed": false,
    "slideshow": {
     "slide_type": "slide"
    }
   },
   "outputs": [
    {
     "name": "stdout",
     "output_type": "stream",
     "text": [
      "[(u'and', 0), (u'are', 1), (u'as', 2), (u'be', 3), (u'begin', 4), (u'come', 5), (u'die', 6), (u'doing', 7), (u'eyes', 8), (u'food', 9), (u'forever', 10), (u'fork', 11), (u'frightful', 12), (u'get', 13), (u'goal', 14), (u'if', 15), (u'imagination', 16), (u'important', 17), (u'in', 18), (u'is', 19), (u'it', 20), (u'knowledge', 21), (u'learn', 22), (u'live', 23), (u'love', 24), (u'more', 25), (u'music', 26), (u'obstacles', 27), (u'of', 28), (u'off', 29), (u'on', 30), (u'play', 31), (u'quit', 32), (u'road', 33), (u'see', 34), (u'started', 35), (u'take', 36), (u'talking', 37), (u'than', 38), (u'the', 39), (u'things', 40), (u'those', 41), (u'to', 42), (u'tomorrow', 43), (u'way', 44), (u'were', 45), (u'when', 46), (u'you', 47), (u'your', 48)]\n"
     ]
    }
   ],
   "source": [
    "import sklearn.feature_extraction\n",
    "\n",
    "quotes = [ \n",
    "\"Imagination is more important than knowledge\",\n",
    "\"If music be the food of love, play on\",\n",
    "\"the way to get started is to quit talking and begin doing\",\n",
    "\"Obstacles are those frightful things you see when you take your eyes off the goal\",\n",
    "\"when you come to a fork in the road take it\",\n",
    "\"live as if you were to die tomorrow. \"\n",
    "    \"Learn as if you were to live forever\"]\n",
    "\n",
    "vectorizer = sklearn.feature_extraction.text.CountVectorizer(\n",
    "                                ngram_range=(1,1),\n",
    "                                analyzer='word')\n",
    "vectorizer.fit(quotes)\n",
    "\n",
    "print( [ (word, vectorizer.vocabulary_[word])\n",
    "        for word in sorted(vectorizer.vocabulary_) ] )"
   ]
  },
  {
   "cell_type": "markdown",
   "metadata": {
    "slideshow": {
     "slide_type": "slide"
    }
   },
   "source": [
    "# Define a simple helper function to make it easy to print the word count feature vectors"
   ]
  },
  {
   "cell_type": "code",
   "execution_count": 88,
   "metadata": {
    "collapsed": true,
    "slideshow": {
     "slide_type": "fragment"
    }
   },
   "outputs": [],
   "source": [
    "def print_counts(vectorizer, features):\n",
    "    reverse = dict((v, k) for k,v in vectorizer.vocabulary_.items()) \n",
    "    print('counts:')\n",
    "    print( [(reverse[i], count) \n",
    "            for i,count in zip(features.indices, features.data)])"
   ]
  },
  {
   "cell_type": "code",
   "execution_count": 89,
   "metadata": {
    "collapsed": false,
    "slideshow": {
     "slide_type": "slide"
    }
   },
   "outputs": [
    {
     "name": "stdout",
     "output_type": "stream",
     "text": [
      "vocabulary:\n",
      "[(u'and', 0), (u'are', 1), (u'as', 2), (u'be', 3), (u'begin', 4), (u'come', 5), (u'die', 6), (u'doing', 7), (u'eyes', 8), (u'food', 9), (u'forever', 10), (u'fork', 11), (u'frightful', 12), (u'get', 13), (u'goal', 14), (u'if', 15), (u'imagination', 16), (u'important', 17), (u'in', 18), (u'is', 19), (u'it', 20), (u'knowledge', 21), (u'learn', 22), (u'live', 23), (u'love', 24), (u'more', 25), (u'music', 26), (u'obstacles', 27), (u'of', 28), (u'off', 29), (u'on', 30), (u'play', 31), (u'quit', 32), (u'road', 33), (u'see', 34), (u'started', 35), (u'take', 36), (u'talking', 37), (u'than', 38), (u'the', 39), (u'things', 40), (u'those', 41), (u'to', 42), (u'tomorrow', 43), (u'way', 44), (u'were', 45), (u'when', 46), (u'you', 47), (u'your', 48)]\n",
      "features:\n",
      "  (0, 2)\t2\n",
      "  (0, 6)\t1\n",
      "  (0, 10)\t1\n",
      "  (0, 15)\t2\n",
      "  (0, 22)\t1\n",
      "  (0, 23)\t2\n",
      "  (0, 42)\t2\n",
      "  (0, 43)\t1\n",
      "  (0, 45)\t2\n",
      "  (0, 47)\t2\n"
     ]
    }
   ],
   "source": [
    "\n",
    "features = vectorizer.transform([\n",
    "\"live as if you were to die tomorrow. \"\n",
    "        \"Learn as if you were to live forever\"])\n",
    "print(\"vocabulary:\\n{0}\".format([ (word, vectorizer.vocabulary_[word])\n",
    "        for word in sorted(vectorizer.vocabulary_) ] ))\n",
    "print(\"features:\\n{0}\".format(features))"
   ]
  },
  {
   "cell_type": "code",
   "execution_count": 90,
   "metadata": {
    "collapsed": false,
    "slideshow": {
     "slide_type": "slide"
    }
   },
   "outputs": [
    {
     "name": "stdout",
     "output_type": "stream",
     "text": [
      "counts:\n",
      "[(u'as', 2), (u'die', 1), (u'forever', 1), (u'if', 2), (u'learn', 1), (u'live', 2), (u'to', 2), (u'tomorrow', 1), (u'were', 2), (u'you', 2)]\n",
      "counts:\n",
      "[(u'are', 1), (u'of', 1)]\n"
     ]
    }
   ],
   "source": [
    "features = vectorizer.transform([\n",
    "\"live as if you were to die tomorrow. \"\n",
    "        \"Learn as if you were to live forever\"])\n",
    "print_counts(vectorizer, features)\n",
    "\n",
    "features = vectorizer.transform([\"Most of these words are new\"])\n",
    "print_counts(vectorizer, features)\n"
   ]
  },
  {
   "cell_type": "markdown",
   "metadata": {
    "slideshow": {
     "slide_type": "slide"
    }
   },
   "source": [
    "# Word or character combinations can be very useful features:\n",
    "    "
   ]
  },
  {
   "cell_type": "code",
   "execution_count": 91,
   "metadata": {
    "collapsed": false,
    "scrolled": true,
    "slideshow": {
     "slide_type": "fragment"
    }
   },
   "outputs": [],
   "source": [
    "vectorizer = sklearn.feature_extraction.text.CountVectorizer(\n",
    "                                ngram_range=(1,2),\n",
    "                                analyzer='char')\n",
    "vectorizer.fit(quotes);\n"
   ]
  },
  {
   "cell_type": "code",
   "execution_count": 92,
   "metadata": {
    "collapsed": false,
    "slideshow": {
     "slide_type": "slide"
    }
   },
   "outputs": [
    {
     "name": "stdout",
     "output_type": "stream",
     "text": [
      "counts:\n",
      "[(u' ', 15), (u' a', 2), (u' d', 1), (u' f', 1), (u' i', 2), (u' l', 2), (u' t', 3), (u' w', 2), (u' y', 2), (u'.', 1), (u'. ', 1), (u'a', 3), (u'ar', 1), (u'as', 2), (u'd', 1), (u'di', 1), (u'e', 10), (u'e ', 5), (u'ea', 1), (u'er', 3), (u'ev', 1), (u'f', 3), (u'f ', 2), (u'fo', 1), (u'i', 5), (u'ie', 1), (u'if', 2), (u'iv', 2), (u'l', 3), (u'le', 1), (u'li', 2), (u'm', 1), (u'mo', 1), (u'n', 1), (u'n ', 1), (u'o', 8), (u'o ', 2), (u'om', 1), (u'or', 2), (u'ou', 2), (u'ow', 1), (u'r', 7), (u're', 3), (u'rn', 1), (u'ro', 1), (u'rr', 1), (u's', 2), (u's ', 2), (u't', 3), (u'to', 3), (u'u', 2), (u'u ', 2), (u'v', 3), (u've', 3), (u'w', 3), (u'w.', 1), (u'we', 2), (u'y', 2), (u'yo', 2)]\n"
     ]
    }
   ],
   "source": [
    "features = vectorizer.transform([\n",
    "\"live as if you were to die tomorrow. \"\n",
    "        \"Learn as if you were to live forever\"\n",
    "    ])\n",
    "# print(features)\n",
    "print_counts(vectorizer, features)\n"
   ]
  },
  {
   "cell_type": "markdown",
   "metadata": {
    "slideshow": {
     "slide_type": "slide"
    }
   },
   "source": [
    "# Example &mdash; Building a simple SPAM filter\n",
    "\n",
    "&nbsp;\n",
    "\n",
    "## (This is a classification problem)"
   ]
  },
  {
   "cell_type": "markdown",
   "metadata": {
    "slideshow": {
     "slide_type": "slide"
    }
   },
   "source": [
    "### Import the libraries we need and take a look at the training data"
   ]
  },
  {
   "cell_type": "code",
   "execution_count": 93,
   "metadata": {
    "collapsed": false,
    "slideshow": {
     "slide_type": "fragment"
    }
   },
   "outputs": [
    {
     "data": {
      "text/html": [
       "<div>\n",
       "<table border=\"1\" class=\"dataframe\">\n",
       "  <thead>\n",
       "    <tr style=\"text-align: right;\">\n",
       "      <th></th>\n",
       "      <th>target</th>\n",
       "      <th>text</th>\n",
       "    </tr>\n",
       "  </thead>\n",
       "  <tbody>\n",
       "    <tr>\n",
       "      <th>0</th>\n",
       "      <td>ham</td>\n",
       "      <td>Go until jurong point, crazy.. Available only ...</td>\n",
       "    </tr>\n",
       "    <tr>\n",
       "      <th>1</th>\n",
       "      <td>ham</td>\n",
       "      <td>I'm at home. Please call</td>\n",
       "    </tr>\n",
       "    <tr>\n",
       "      <th>2</th>\n",
       "      <td>spam</td>\n",
       "      <td>Free entry in 2 a wkly comp to win FA Cup fina...</td>\n",
       "    </tr>\n",
       "    <tr>\n",
       "      <th>3</th>\n",
       "      <td>ham</td>\n",
       "      <td>U dun say so early hor... U c already then say...</td>\n",
       "    </tr>\n",
       "    <tr>\n",
       "      <th>4</th>\n",
       "      <td>ham</td>\n",
       "      <td>Hey! Congrats 2u2. id luv 2 but ive had 2 go h...</td>\n",
       "    </tr>\n",
       "    <tr>\n",
       "      <th>5</th>\n",
       "      <td>ham</td>\n",
       "      <td>After my work ah... Den 6 plus lor... U workin...</td>\n",
       "    </tr>\n",
       "    <tr>\n",
       "      <th>6</th>\n",
       "      <td>ham</td>\n",
       "      <td>Even my brother is not like to speak with me. ...</td>\n",
       "    </tr>\n",
       "    <tr>\n",
       "      <th>7</th>\n",
       "      <td>ham</td>\n",
       "      <td>As per your request 'Melle Melle (Oru Minnamin...</td>\n",
       "    </tr>\n",
       "    <tr>\n",
       "      <th>8</th>\n",
       "      <td>spam</td>\n",
       "      <td>WINNER!! As a valued network customer you have...</td>\n",
       "    </tr>\n",
       "    <tr>\n",
       "      <th>9</th>\n",
       "      <td>ham</td>\n",
       "      <td>I had askd u a question some hours before. Its...</td>\n",
       "    </tr>\n",
       "  </tbody>\n",
       "</table>\n",
       "</div>"
      ],
      "text/plain": [
       "  target                                               text\n",
       "0    ham  Go until jurong point, crazy.. Available only ...\n",
       "1    ham                           I'm at home. Please call\n",
       "2   spam  Free entry in 2 a wkly comp to win FA Cup fina...\n",
       "3    ham  U dun say so early hor... U c already then say...\n",
       "4    ham  Hey! Congrats 2u2. id luv 2 but ive had 2 go h...\n",
       "5    ham  After my work ah... Den 6 plus lor... U workin...\n",
       "6    ham  Even my brother is not like to speak with me. ...\n",
       "7    ham  As per your request 'Melle Melle (Oru Minnamin...\n",
       "8   spam  WINNER!! As a valued network customer you have...\n",
       "9    ham  I had askd u a question some hours before. Its..."
      ]
     },
     "execution_count": 93,
     "metadata": {},
     "output_type": "execute_result"
    }
   ],
   "source": [
    "import pandas\n",
    "\n",
    "train = pandas.read_csv(\"datasets/smstrain.tsv\",\n",
    "                        sep='\\t',\n",
    "                        header=None,\n",
    "                        names=('target', 'text'),\n",
    "                        skipinitialspace = True)    \n",
    "train.head(10)"
   ]
  },
  {
   "cell_type": "markdown",
   "metadata": {
    "slideshow": {
     "slide_type": "slide"
    }
   },
   "source": [
    "## Extract features and train the classifier"
   ]
  },
  {
   "cell_type": "code",
   "execution_count": 94,
   "metadata": {
    "collapsed": true,
    "slideshow": {
     "slide_type": "fragment"
    }
   },
   "outputs": [],
   "source": [
    "import re\n",
    "import sklearn.feature_extraction.text as text\n",
    "import sklearn.naive_bayes as naive_bayes\n",
    "\n",
    "preprocessor = lambda s: (re.sub(\"[0-9]+\", ' WAS_A_NUMBER ',\n",
    "                                 s.lower())\n",
    "                     .replace(':)', ' SMILEY '))\n",
    "\n",
    "vectorizer = text.CountVectorizer(lowercase=True,\n",
    "                                  ngram_range=(1,3),\n",
    "                                  stop_words='english',\n",
    "                                  analyzer='word',\n",
    "                                  preprocessor=preprocessor)\n",
    "# Extract features and target...\n",
    "train_features = vectorizer.fit_transform(train.text)\n",
    "train_target = (train.target == 'spam');"
   ]
  },
  {
   "cell_type": "markdown",
   "metadata": {
    "slideshow": {
     "slide_type": "subslide"
    }
   },
   "source": [
    "# What does the preprocessor do?"
   ]
  },
  {
   "cell_type": "code",
   "execution_count": 95,
   "metadata": {
    "collapsed": false,
    "slideshow": {
     "slide_type": "fragment"
    }
   },
   "outputs": [
    {
     "data": {
      "text/plain": [
       "'last year we had  WAS_A_NUMBER  new students and this year we have  WAS_A_NUMBER  SMILEY '"
      ]
     },
     "execution_count": 95,
     "metadata": {},
     "output_type": "execute_result"
    }
   ],
   "source": [
    "preprocessor(\n",
    "\"Last year we had 350 new students \"\n",
    "    \"and this year we have 450:)\")"
   ]
  },
  {
   "cell_type": "markdown",
   "metadata": {
    "slideshow": {
     "slide_type": "slide"
    }
   },
   "source": [
    "# Train the model"
   ]
  },
  {
   "cell_type": "code",
   "execution_count": 96,
   "metadata": {
    "collapsed": false,
    "scrolled": false,
    "slideshow": {
     "slide_type": "fragment"
    }
   },
   "outputs": [],
   "source": [
    "# Train...\n",
    "# MultinomialNB is a good choice when features are occurrence counts\n",
    "# Other types of classifiers would work too\n",
    "classifier = naive_bayes.MultinomialNB() # Default parameters are good choices\n",
    "classifier.fit(train_features, train_target);"
   ]
  },
  {
   "cell_type": "markdown",
   "metadata": {
    "slideshow": {
     "slide_type": "slide"
    }
   },
   "source": [
    "## At this point, we actually have a somewhat useful spam filter..."
   ]
  },
  {
   "cell_type": "markdown",
   "metadata": {
    "slideshow": {
     "slide_type": "slide"
    }
   },
   "source": [
    "### Make predictions on the test data"
   ]
  },
  {
   "cell_type": "code",
   "execution_count": 97,
   "metadata": {
    "collapsed": false,
    "slideshow": {
     "slide_type": "fragment"
    }
   },
   "outputs": [
    {
     "name": "stdout",
     "output_type": "stream",
     "text": [
      "Accuracy: 0.985\n"
     ]
    }
   ],
   "source": [
    "import numpy\n",
    "\n",
    "test = pandas.read_csv(\"datasets/smstest.tsv\",\n",
    "                        sep='\\t',\n",
    "                        header=None,\n",
    "                        names=('target', 'text'),\n",
    "                        skipinitialspace = True)\n",
    "test_features = vectorizer.transform(test.text)\n",
    "\n",
    "predictions = ['spam' if p else 'ham' \n",
    "               for p in classifier.predict(test_features)]\n",
    "\n",
    "probabilities = ((classifier.predict_proba(test_features)*100.0)\n",
    "                 .astype(numpy.int64))\n",
    "\n",
    "s = classifier.score(test_features, test.target == 'spam')\n",
    "print('Accuracy: {0:5.3f}'.format(s))\n",
    "\n",
    "predictions = ['spam' if p > 60.0 else 'ham' \n",
    "               for p in probabilities[:,1]]"
   ]
  },
  {
   "cell_type": "markdown",
   "metadata": {
    "slideshow": {
     "slide_type": "slide"
    }
   },
   "source": [
    "## Evaluate the performance on the test set\n"
   ]
  },
  {
   "cell_type": "code",
   "execution_count": 98,
   "metadata": {
    "collapsed": false,
    "slideshow": {
     "slide_type": "fragment"
    }
   },
   "outputs": [],
   "source": [
    "import sklearn.metrics as metrics\n",
    "\n",
    "confusion = sklearn.metrics.confusion_matrix(test.target, predictions)\n",
    "tpr=float(confusion[1,1])/(confusion[1,0]+confusion[1,1])\n",
    "fpr=float(confusion[0,1])/(confusion[0,1]+confusion[1,1])\n",
    "accuracy=float(confusion[0,0]+confusion[1,1])/sum(sum(confusion))\n",
    "\n",
    "check = pandas.DataFrame(zip(predictions, \n",
    "                             probabilities[:,1], \n",
    "                             test.target, \n",
    "                             test.text), \n",
    "                         columns=['Pred', 'Prob(%)',\n",
    "                                  'Actual', 'Text'])"
   ]
  },
  {
   "cell_type": "code",
   "execution_count": 99,
   "metadata": {
    "collapsed": false,
    "scrolled": false,
    "slideshow": {
     "slide_type": "slide"
    }
   },
   "outputs": [
    {
     "name": "stdout",
     "output_type": "stream",
     "text": [
      "Correct hams:  1615\n",
      "Correct spams:  218\n",
      "False Positives:  3\n",
      "False Negatives: 21\n",
      "\n",
      "% of SPAMs detected: 91.2%\n",
      "False positive rate:  1.4%\n",
      "Overall Accuracy:    98.708%\n",
      "\n",
      "AUROC: 0.96873\n"
     ]
    }
   ],
   "source": [
    "print(('Correct hams:  {0}\\n' +\n",
    "       'Correct spams:  {1}\\n' + \n",
    "       'False Positives:  {2}\\n' +\n",
    "       'False Negatives: {3}\\n\\n' +\n",
    "       '% of SPAMs detected: {4:4.1f}%\\n' +\n",
    "       'False positive rate: {5:4.1f}%\\n' + \n",
    "       'Overall Accuracy:    {6:5.3f}%\\n').format(\n",
    "    confusion[0,0], confusion[1,1], confusion[0,1],\n",
    "    confusion[1,0], tpr*100.0, fpr*100.0, accuracy*100.0))\n",
    "print('AUROC: {0:5.5f}'\n",
    "      .format(metrics.roc_auc_score(test.target == 'spam',\n",
    "                                    probabilities[:,1])))"
   ]
  },
  {
   "cell_type": "markdown",
   "metadata": {
    "slideshow": {
     "slide_type": "slide"
    }
   },
   "source": [
    "## What did it get right or wrong?\n",
    "&nbsp;"
   ]
  },
  {
   "cell_type": "markdown",
   "metadata": {
    "slideshow": {
     "slide_type": "slide"
    }
   },
   "source": [
    "### Hams that were classified correctly:"
   ]
  },
  {
   "cell_type": "code",
   "execution_count": 100,
   "metadata": {
    "collapsed": false,
    "scrolled": true,
    "slideshow": {
     "slide_type": "fragment"
    }
   },
   "outputs": [
    {
     "name": "stdout",
     "output_type": "stream",
     "text": [
      "Hams that were classified correctly:\n"
     ]
    },
    {
     "data": {
      "text/html": [
       "<div>\n",
       "<table border=\"1\" class=\"dataframe\">\n",
       "  <thead>\n",
       "    <tr style=\"text-align: right;\">\n",
       "      <th></th>\n",
       "      <th>Pred</th>\n",
       "      <th>Prob(%)</th>\n",
       "      <th>Actual</th>\n",
       "      <th>Text</th>\n",
       "    </tr>\n",
       "  </thead>\n",
       "  <tbody>\n",
       "    <tr>\n",
       "      <th>0</th>\n",
       "      <td>ham</td>\n",
       "      <td>0</td>\n",
       "      <td>ham</td>\n",
       "      <td>I also thk too fast... Xy suggest one not me. ...</td>\n",
       "    </tr>\n",
       "    <tr>\n",
       "      <th>1</th>\n",
       "      <td>ham</td>\n",
       "      <td>52</td>\n",
       "      <td>ham</td>\n",
       "      <td>CAN I PLEASE COME UP NOW IMIN TOWN.DONTMATTER ...</td>\n",
       "    </tr>\n",
       "    <tr>\n",
       "      <th>2</th>\n",
       "      <td>ham</td>\n",
       "      <td>0</td>\n",
       "      <td>ham</td>\n",
       "      <td>Please sen :)my kind advice :-)please come her...</td>\n",
       "    </tr>\n",
       "    <tr>\n",
       "      <th>3</th>\n",
       "      <td>ham</td>\n",
       "      <td>0</td>\n",
       "      <td>ham</td>\n",
       "      <td>House-Maid is the murderer, coz the man was mu...</td>\n",
       "    </tr>\n",
       "    <tr>\n",
       "      <th>4</th>\n",
       "      <td>ham</td>\n",
       "      <td>0</td>\n",
       "      <td>ham</td>\n",
       "      <td>Where in abj are you serving. Are you staying ...</td>\n",
       "    </tr>\n",
       "    <tr>\n",
       "      <th>5</th>\n",
       "      <td>ham</td>\n",
       "      <td>0</td>\n",
       "      <td>ham</td>\n",
       "      <td>HEY HEY WERETHE MONKEESPEOPLE SAY WE MONKEYARO...</td>\n",
       "    </tr>\n",
       "    <tr>\n",
       "      <th>6</th>\n",
       "      <td>ham</td>\n",
       "      <td>0</td>\n",
       "      <td>ham</td>\n",
       "      <td>Sorry battery died, yeah I'm here</td>\n",
       "    </tr>\n",
       "    <tr>\n",
       "      <th>7</th>\n",
       "      <td>ham</td>\n",
       "      <td>0</td>\n",
       "      <td>ham</td>\n",
       "      <td>Nah man, my car is meant to be crammed full of...</td>\n",
       "    </tr>\n",
       "    <tr>\n",
       "      <th>8</th>\n",
       "      <td>ham</td>\n",
       "      <td>0</td>\n",
       "      <td>ham</td>\n",
       "      <td>Why i come in between you people</td>\n",
       "    </tr>\n",
       "    <tr>\n",
       "      <th>9</th>\n",
       "      <td>ham</td>\n",
       "      <td>0</td>\n",
       "      <td>ham</td>\n",
       "      <td>Ok. There may be a free gym about.</td>\n",
       "    </tr>\n",
       "    <tr>\n",
       "      <th>10</th>\n",
       "      <td>ham</td>\n",
       "      <td>0</td>\n",
       "      <td>ham</td>\n",
       "      <td>It only does simple arithmetic not percentages.</td>\n",
       "    </tr>\n",
       "    <tr>\n",
       "      <th>11</th>\n",
       "      <td>ham</td>\n",
       "      <td>0</td>\n",
       "      <td>ham</td>\n",
       "      <td>Lovely smell on this bus and it ain't tobacco...</td>\n",
       "    </tr>\n",
       "    <tr>\n",
       "      <th>12</th>\n",
       "      <td>ham</td>\n",
       "      <td>0</td>\n",
       "      <td>ham</td>\n",
       "      <td>You said not now. No problem. When you can. Le...</td>\n",
       "    </tr>\n",
       "    <tr>\n",
       "      <th>13</th>\n",
       "      <td>ham</td>\n",
       "      <td>0</td>\n",
       "      <td>ham</td>\n",
       "      <td>Ok lar... Joking wif u oni...</td>\n",
       "    </tr>\n",
       "    <tr>\n",
       "      <th>14</th>\n",
       "      <td>ham</td>\n",
       "      <td>0</td>\n",
       "      <td>ham</td>\n",
       "      <td>When ü login dat time... Dad fetching ü home now?</td>\n",
       "    </tr>\n",
       "    <tr>\n",
       "      <th>15</th>\n",
       "      <td>ham</td>\n",
       "      <td>0</td>\n",
       "      <td>ham</td>\n",
       "      <td>Good afternoon on this glorious anniversary da...</td>\n",
       "    </tr>\n",
       "    <tr>\n",
       "      <th>16</th>\n",
       "      <td>ham</td>\n",
       "      <td>0</td>\n",
       "      <td>ham</td>\n",
       "      <td>Say this slowly.? GOD,I LOVE YOU &amp;amp; I NEED ...</td>\n",
       "    </tr>\n",
       "    <tr>\n",
       "      <th>17</th>\n",
       "      <td>ham</td>\n",
       "      <td>0</td>\n",
       "      <td>ham</td>\n",
       "      <td>Bugis oso near wat...</td>\n",
       "    </tr>\n",
       "    <tr>\n",
       "      <th>19</th>\n",
       "      <td>ham</td>\n",
       "      <td>0</td>\n",
       "      <td>ham</td>\n",
       "      <td>Hey are we going for the lo lesson or gym?</td>\n",
       "    </tr>\n",
       "    <tr>\n",
       "      <th>20</th>\n",
       "      <td>ham</td>\n",
       "      <td>0</td>\n",
       "      <td>ham</td>\n",
       "      <td>I think asking for a gym is the excuse for laz...</td>\n",
       "    </tr>\n",
       "    <tr>\n",
       "      <th>21</th>\n",
       "      <td>ham</td>\n",
       "      <td>0</td>\n",
       "      <td>ham</td>\n",
       "      <td>Yes i thought so. Thanks.</td>\n",
       "    </tr>\n",
       "    <tr>\n",
       "      <th>22</th>\n",
       "      <td>ham</td>\n",
       "      <td>0</td>\n",
       "      <td>ham</td>\n",
       "      <td>I jus reached home. I go bathe first. But my s...</td>\n",
       "    </tr>\n",
       "    <tr>\n",
       "      <th>23</th>\n",
       "      <td>ham</td>\n",
       "      <td>0</td>\n",
       "      <td>ham</td>\n",
       "      <td>I know you are. Can you pls open the back?</td>\n",
       "    </tr>\n",
       "    <tr>\n",
       "      <th>24</th>\n",
       "      <td>ham</td>\n",
       "      <td>0</td>\n",
       "      <td>ham</td>\n",
       "      <td>LOOK AT THE FXXXIN TIME. WHAT THE FXXX YOU THI...</td>\n",
       "    </tr>\n",
       "    <tr>\n",
       "      <th>25</th>\n",
       "      <td>ham</td>\n",
       "      <td>0</td>\n",
       "      <td>ham</td>\n",
       "      <td>Edison has rightly said, \"A fool can ask more ...</td>\n",
       "    </tr>\n",
       "    <tr>\n",
       "      <th>26</th>\n",
       "      <td>ham</td>\n",
       "      <td>0</td>\n",
       "      <td>ham</td>\n",
       "      <td>Nothing much, chillin at home. Any super bowl ...</td>\n",
       "    </tr>\n",
       "    <tr>\n",
       "      <th>27</th>\n",
       "      <td>ham</td>\n",
       "      <td>0</td>\n",
       "      <td>ham</td>\n",
       "      <td>Whatsup there. Dont u want to sleep</td>\n",
       "    </tr>\n",
       "    <tr>\n",
       "      <th>29</th>\n",
       "      <td>ham</td>\n",
       "      <td>0</td>\n",
       "      <td>ham</td>\n",
       "      <td>After the drug she will be able to eat.</td>\n",
       "    </tr>\n",
       "    <tr>\n",
       "      <th>30</th>\n",
       "      <td>ham</td>\n",
       "      <td>0</td>\n",
       "      <td>ham</td>\n",
       "      <td>Hello darlin ive finished college now so txt m...</td>\n",
       "    </tr>\n",
       "    <tr>\n",
       "      <th>31</th>\n",
       "      <td>ham</td>\n",
       "      <td>0</td>\n",
       "      <td>ham</td>\n",
       "      <td>I am back. Bit long cos of accident on a30. Ha...</td>\n",
       "    </tr>\n",
       "    <tr>\n",
       "      <th>...</th>\n",
       "      <td>...</td>\n",
       "      <td>...</td>\n",
       "      <td>...</td>\n",
       "      <td>...</td>\n",
       "    </tr>\n",
       "    <tr>\n",
       "      <th>1826</th>\n",
       "      <td>ham</td>\n",
       "      <td>0</td>\n",
       "      <td>ham</td>\n",
       "      <td>Yeah it's jus rite...</td>\n",
       "    </tr>\n",
       "    <tr>\n",
       "      <th>1827</th>\n",
       "      <td>ham</td>\n",
       "      <td>0</td>\n",
       "      <td>ham</td>\n",
       "      <td>Armand says get your ass over to epsilon</td>\n",
       "    </tr>\n",
       "    <tr>\n",
       "      <th>1828</th>\n",
       "      <td>ham</td>\n",
       "      <td>0</td>\n",
       "      <td>ham</td>\n",
       "      <td>U so lousy, run already come back then half de...</td>\n",
       "    </tr>\n",
       "    <tr>\n",
       "      <th>1829</th>\n",
       "      <td>ham</td>\n",
       "      <td>0</td>\n",
       "      <td>ham</td>\n",
       "      <td>I'm taking derek &amp;amp; taylor to walmart, if I...</td>\n",
       "    </tr>\n",
       "    <tr>\n",
       "      <th>1830</th>\n",
       "      <td>ham</td>\n",
       "      <td>2</td>\n",
       "      <td>ham</td>\n",
       "      <td>Hi its in durban are you still on this number</td>\n",
       "    </tr>\n",
       "    <tr>\n",
       "      <th>1831</th>\n",
       "      <td>ham</td>\n",
       "      <td>5</td>\n",
       "      <td>ham</td>\n",
       "      <td>Ic. There are a lotta childporn cars then.</td>\n",
       "    </tr>\n",
       "    <tr>\n",
       "      <th>1832</th>\n",
       "      <td>ham</td>\n",
       "      <td>1</td>\n",
       "      <td>ham</td>\n",
       "      <td>Thanks. Fills me with complete calm and reassu...</td>\n",
       "    </tr>\n",
       "    <tr>\n",
       "      <th>1833</th>\n",
       "      <td>ham</td>\n",
       "      <td>0</td>\n",
       "      <td>ham</td>\n",
       "      <td>Macha dont feel upset.i can assume your mindse...</td>\n",
       "    </tr>\n",
       "    <tr>\n",
       "      <th>1834</th>\n",
       "      <td>ham</td>\n",
       "      <td>0</td>\n",
       "      <td>ham</td>\n",
       "      <td>Ha ha cool cool chikku chikku:-):-DB-)</td>\n",
       "    </tr>\n",
       "    <tr>\n",
       "      <th>1835</th>\n",
       "      <td>ham</td>\n",
       "      <td>1</td>\n",
       "      <td>ham</td>\n",
       "      <td>Okie</td>\n",
       "    </tr>\n",
       "    <tr>\n",
       "      <th>1836</th>\n",
       "      <td>ham</td>\n",
       "      <td>0</td>\n",
       "      <td>ham</td>\n",
       "      <td>Wen did you get so spiritual and deep. That's ...</td>\n",
       "    </tr>\n",
       "    <tr>\n",
       "      <th>1837</th>\n",
       "      <td>ham</td>\n",
       "      <td>0</td>\n",
       "      <td>ham</td>\n",
       "      <td>Have a safe trip to Nigeria. Wish you happines...</td>\n",
       "    </tr>\n",
       "    <tr>\n",
       "      <th>1839</th>\n",
       "      <td>ham</td>\n",
       "      <td>0</td>\n",
       "      <td>ham</td>\n",
       "      <td>ARR birthday today:) i wish him to get more os...</td>\n",
       "    </tr>\n",
       "    <tr>\n",
       "      <th>1840</th>\n",
       "      <td>ham</td>\n",
       "      <td>0</td>\n",
       "      <td>ham</td>\n",
       "      <td>Sorry i've not gone to that place. I.ll do so ...</td>\n",
       "    </tr>\n",
       "    <tr>\n",
       "      <th>1841</th>\n",
       "      <td>ham</td>\n",
       "      <td>0</td>\n",
       "      <td>ham</td>\n",
       "      <td>Turns out my friends are staying for the whole...</td>\n",
       "    </tr>\n",
       "    <tr>\n",
       "      <th>1842</th>\n",
       "      <td>ham</td>\n",
       "      <td>0</td>\n",
       "      <td>ham</td>\n",
       "      <td>Do well :)all will for little time. Thing of g...</td>\n",
       "    </tr>\n",
       "    <tr>\n",
       "      <th>1843</th>\n",
       "      <td>ham</td>\n",
       "      <td>0</td>\n",
       "      <td>ham</td>\n",
       "      <td>Sorry, I'll call later</td>\n",
       "    </tr>\n",
       "    <tr>\n",
       "      <th>1844</th>\n",
       "      <td>ham</td>\n",
       "      <td>0</td>\n",
       "      <td>ham</td>\n",
       "      <td>Do you know why god created gap between your f...</td>\n",
       "    </tr>\n",
       "    <tr>\n",
       "      <th>1845</th>\n",
       "      <td>ham</td>\n",
       "      <td>0</td>\n",
       "      <td>ham</td>\n",
       "      <td>Anything lor. Juz both of us lor.</td>\n",
       "    </tr>\n",
       "    <tr>\n",
       "      <th>1846</th>\n",
       "      <td>ham</td>\n",
       "      <td>3</td>\n",
       "      <td>ham</td>\n",
       "      <td>PLEASSSSSSSEEEEEE TEL ME V AVENT DONE SPORTSx</td>\n",
       "    </tr>\n",
       "    <tr>\n",
       "      <th>1847</th>\n",
       "      <td>ham</td>\n",
       "      <td>0</td>\n",
       "      <td>ham</td>\n",
       "      <td>Ok lor... Sony ericsson salesman... I ask shuh...</td>\n",
       "    </tr>\n",
       "    <tr>\n",
       "      <th>1848</th>\n",
       "      <td>ham</td>\n",
       "      <td>0</td>\n",
       "      <td>ham</td>\n",
       "      <td>Ard 6 like dat lor.</td>\n",
       "    </tr>\n",
       "    <tr>\n",
       "      <th>1849</th>\n",
       "      <td>ham</td>\n",
       "      <td>2</td>\n",
       "      <td>ham</td>\n",
       "      <td>You've always been the brainy one.</td>\n",
       "    </tr>\n",
       "    <tr>\n",
       "      <th>1850</th>\n",
       "      <td>ham</td>\n",
       "      <td>0</td>\n",
       "      <td>ham</td>\n",
       "      <td>Omg I want to scream. I weighed myself and I l...</td>\n",
       "    </tr>\n",
       "    <tr>\n",
       "      <th>1851</th>\n",
       "      <td>ham</td>\n",
       "      <td>1</td>\n",
       "      <td>ham</td>\n",
       "      <td>Are you there in room.</td>\n",
       "    </tr>\n",
       "    <tr>\n",
       "      <th>1852</th>\n",
       "      <td>ham</td>\n",
       "      <td>0</td>\n",
       "      <td>ham</td>\n",
       "      <td>I was wondering if it would be okay for you to...</td>\n",
       "    </tr>\n",
       "    <tr>\n",
       "      <th>1853</th>\n",
       "      <td>ham</td>\n",
       "      <td>0</td>\n",
       "      <td>ham</td>\n",
       "      <td>WOT U WANNA DO THEN MISSY?</td>\n",
       "    </tr>\n",
       "    <tr>\n",
       "      <th>1854</th>\n",
       "      <td>ham</td>\n",
       "      <td>0</td>\n",
       "      <td>ham</td>\n",
       "      <td>No need to ke qi... Ü too bored izzit y sudden...</td>\n",
       "    </tr>\n",
       "    <tr>\n",
       "      <th>1855</th>\n",
       "      <td>ham</td>\n",
       "      <td>0</td>\n",
       "      <td>ham</td>\n",
       "      <td>I'm in a meeting, call me later at</td>\n",
       "    </tr>\n",
       "    <tr>\n",
       "      <th>1856</th>\n",
       "      <td>ham</td>\n",
       "      <td>0</td>\n",
       "      <td>ham</td>\n",
       "      <td>But pls dont play in others life.</td>\n",
       "    </tr>\n",
       "  </tbody>\n",
       "</table>\n",
       "<p>1615 rows × 4 columns</p>\n",
       "</div>"
      ],
      "text/plain": [
       "     Pred  Prob(%) Actual                                               Text\n",
       "0     ham        0    ham  I also thk too fast... Xy suggest one not me. ...\n",
       "1     ham       52    ham  CAN I PLEASE COME UP NOW IMIN TOWN.DONTMATTER ...\n",
       "2     ham        0    ham  Please sen :)my kind advice :-)please come her...\n",
       "3     ham        0    ham  House-Maid is the murderer, coz the man was mu...\n",
       "4     ham        0    ham  Where in abj are you serving. Are you staying ...\n",
       "5     ham        0    ham  HEY HEY WERETHE MONKEESPEOPLE SAY WE MONKEYARO...\n",
       "6     ham        0    ham                  Sorry battery died, yeah I'm here\n",
       "7     ham        0    ham  Nah man, my car is meant to be crammed full of...\n",
       "8     ham        0    ham                   Why i come in between you people\n",
       "9     ham        0    ham                 Ok. There may be a free gym about.\n",
       "10    ham        0    ham    It only does simple arithmetic not percentages.\n",
       "11    ham        0    ham  Lovely smell on this bus and it ain't tobacco... \n",
       "12    ham        0    ham  You said not now. No problem. When you can. Le...\n",
       "13    ham        0    ham                      Ok lar... Joking wif u oni...\n",
       "14    ham        0    ham  When ü login dat time... Dad fetching ü home now?\n",
       "15    ham        0    ham  Good afternoon on this glorious anniversary da...\n",
       "16    ham        0    ham  Say this slowly.? GOD,I LOVE YOU &amp; I NEED ...\n",
       "17    ham        0    ham                             Bugis oso near wat... \n",
       "19    ham        0    ham        Hey are we going for the lo lesson or gym? \n",
       "20    ham        0    ham  I think asking for a gym is the excuse for laz...\n",
       "21    ham        0    ham                          Yes i thought so. Thanks.\n",
       "22    ham        0    ham  I jus reached home. I go bathe first. But my s...\n",
       "23    ham        0    ham         I know you are. Can you pls open the back?\n",
       "24    ham        0    ham  LOOK AT THE FXXXIN TIME. WHAT THE FXXX YOU THI...\n",
       "25    ham        0    ham  Edison has rightly said, \"A fool can ask more ...\n",
       "26    ham        0    ham  Nothing much, chillin at home. Any super bowl ...\n",
       "27    ham        0    ham                Whatsup there. Dont u want to sleep\n",
       "29    ham        0    ham            After the drug she will be able to eat.\n",
       "30    ham        0    ham  Hello darlin ive finished college now so txt m...\n",
       "31    ham        0    ham  I am back. Bit long cos of accident on a30. Ha...\n",
       "...   ...      ...    ...                                                ...\n",
       "1826  ham        0    ham                              Yeah it's jus rite...\n",
       "1827  ham        0    ham           Armand says get your ass over to epsilon\n",
       "1828  ham        0    ham  U so lousy, run already come back then half de...\n",
       "1829  ham        0    ham  I'm taking derek &amp; taylor to walmart, if I...\n",
       "1830  ham        2    ham      Hi its in durban are you still on this number\n",
       "1831  ham        5    ham         Ic. There are a lotta childporn cars then.\n",
       "1832  ham        1    ham  Thanks. Fills me with complete calm and reassu...\n",
       "1833  ham        0    ham  Macha dont feel upset.i can assume your mindse...\n",
       "1834  ham        0    ham             Ha ha cool cool chikku chikku:-):-DB-)\n",
       "1835  ham        1    ham                                               Okie\n",
       "1836  ham        0    ham  Wen did you get so spiritual and deep. That's ...\n",
       "1837  ham        0    ham  Have a safe trip to Nigeria. Wish you happines...\n",
       "1839  ham        0    ham  ARR birthday today:) i wish him to get more os...\n",
       "1840  ham        0    ham  Sorry i've not gone to that place. I.ll do so ...\n",
       "1841  ham        0    ham  Turns out my friends are staying for the whole...\n",
       "1842  ham        0    ham  Do well :)all will for little time. Thing of g...\n",
       "1843  ham        0    ham                             Sorry, I'll call later\n",
       "1844  ham        0    ham  Do you know why god created gap between your f...\n",
       "1845  ham        0    ham                  Anything lor. Juz both of us lor.\n",
       "1846  ham        3    ham      PLEASSSSSSSEEEEEE TEL ME V AVENT DONE SPORTSx\n",
       "1847  ham        0    ham  Ok lor... Sony ericsson salesman... I ask shuh...\n",
       "1848  ham        0    ham                                Ard 6 like dat lor.\n",
       "1849  ham        2    ham                 You've always been the brainy one.\n",
       "1850  ham        0    ham  Omg I want to scream. I weighed myself and I l...\n",
       "1851  ham        1    ham                             Are you there in room.\n",
       "1852  ham        0    ham  I was wondering if it would be okay for you to...\n",
       "1853  ham        0    ham                         WOT U WANNA DO THEN MISSY?\n",
       "1854  ham        0    ham  No need to ke qi... Ü too bored izzit y sudden...\n",
       "1855  ham        0    ham                 I'm in a meeting, call me later at\n",
       "1856  ham        0    ham                  But pls dont play in others life.\n",
       "\n",
       "[1615 rows x 4 columns]"
      ]
     },
     "execution_count": 100,
     "metadata": {},
     "output_type": "execute_result"
    }
   ],
   "source": [
    "print('Hams that were classified correctly:')\n",
    "check[(check.Pred == check.Actual) & (check.Pred == 'ham')]"
   ]
  },
  {
   "cell_type": "markdown",
   "metadata": {
    "slideshow": {
     "slide_type": "slide"
    }
   },
   "source": [
    "## Spams that were classified correctly:"
   ]
  },
  {
   "cell_type": "code",
   "execution_count": 101,
   "metadata": {
    "collapsed": false,
    "scrolled": true,
    "slideshow": {
     "slide_type": "fragment"
    }
   },
   "outputs": [
    {
     "data": {
      "text/html": [
       "<div>\n",
       "<table border=\"1\" class=\"dataframe\">\n",
       "  <thead>\n",
       "    <tr style=\"text-align: right;\">\n",
       "      <th></th>\n",
       "      <th>Pred</th>\n",
       "      <th>Prob(%)</th>\n",
       "      <th>Actual</th>\n",
       "      <th>Text</th>\n",
       "    </tr>\n",
       "  </thead>\n",
       "  <tbody>\n",
       "    <tr>\n",
       "      <th>28</th>\n",
       "      <td>spam</td>\n",
       "      <td>100</td>\n",
       "      <td>spam</td>\n",
       "      <td>URGENT! We are trying to contact U Todays draw...</td>\n",
       "    </tr>\n",
       "    <tr>\n",
       "      <th>42</th>\n",
       "      <td>spam</td>\n",
       "      <td>100</td>\n",
       "      <td>spam</td>\n",
       "      <td>Congrats! 2 mobile 3G Videophones R yours. cal...</td>\n",
       "    </tr>\n",
       "    <tr>\n",
       "      <th>50</th>\n",
       "      <td>spam</td>\n",
       "      <td>100</td>\n",
       "      <td>spam</td>\n",
       "      <td>Double mins and txts 4 6months FREE Bluetooth ...</td>\n",
       "    </tr>\n",
       "    <tr>\n",
       "      <th>55</th>\n",
       "      <td>spam</td>\n",
       "      <td>99</td>\n",
       "      <td>spam</td>\n",
       "      <td>Please CALL 08712402972 immediately as there i...</td>\n",
       "    </tr>\n",
       "    <tr>\n",
       "      <th>58</th>\n",
       "      <td>spam</td>\n",
       "      <td>100</td>\n",
       "      <td>spam</td>\n",
       "      <td>Last chance 2 claim ur £150 worth of discount ...</td>\n",
       "    </tr>\n",
       "    <tr>\n",
       "      <th>63</th>\n",
       "      <td>spam</td>\n",
       "      <td>100</td>\n",
       "      <td>spam</td>\n",
       "      <td>Sex up ur mobile with a FREE sexy pic of Jorda...</td>\n",
       "    </tr>\n",
       "    <tr>\n",
       "      <th>74</th>\n",
       "      <td>spam</td>\n",
       "      <td>100</td>\n",
       "      <td>spam</td>\n",
       "      <td>SMS SERVICES. for your inclusive text credits,...</td>\n",
       "    </tr>\n",
       "    <tr>\n",
       "      <th>82</th>\n",
       "      <td>spam</td>\n",
       "      <td>100</td>\n",
       "      <td>spam</td>\n",
       "      <td>Final Chance! Claim ur £150 worth of discount ...</td>\n",
       "    </tr>\n",
       "    <tr>\n",
       "      <th>95</th>\n",
       "      <td>spam</td>\n",
       "      <td>99</td>\n",
       "      <td>spam</td>\n",
       "      <td>1000's flirting NOW! Txt GIRL or BLOKE &amp; ur NA...</td>\n",
       "    </tr>\n",
       "    <tr>\n",
       "      <th>102</th>\n",
       "      <td>spam</td>\n",
       "      <td>100</td>\n",
       "      <td>spam</td>\n",
       "      <td>Free 1st week entry 2 TEXTPOD 4 a chance 2 win...</td>\n",
       "    </tr>\n",
       "    <tr>\n",
       "      <th>108</th>\n",
       "      <td>spam</td>\n",
       "      <td>100</td>\n",
       "      <td>spam</td>\n",
       "      <td>sports fans - get the latest sports news str* ...</td>\n",
       "    </tr>\n",
       "    <tr>\n",
       "      <th>117</th>\n",
       "      <td>spam</td>\n",
       "      <td>100</td>\n",
       "      <td>spam</td>\n",
       "      <td>Had your mobile 11 months or more? U R entitle...</td>\n",
       "    </tr>\n",
       "    <tr>\n",
       "      <th>119</th>\n",
       "      <td>spam</td>\n",
       "      <td>99</td>\n",
       "      <td>spam</td>\n",
       "      <td>CALL 09090900040 &amp; LISTEN TO EXTREME DIRTY LIV...</td>\n",
       "    </tr>\n",
       "    <tr>\n",
       "      <th>143</th>\n",
       "      <td>spam</td>\n",
       "      <td>99</td>\n",
       "      <td>spam</td>\n",
       "      <td>Adult 18 Content Your video will be with you s...</td>\n",
       "    </tr>\n",
       "    <tr>\n",
       "      <th>156</th>\n",
       "      <td>spam</td>\n",
       "      <td>100</td>\n",
       "      <td>spam</td>\n",
       "      <td>I don't know u and u don't know me. Send CHAT ...</td>\n",
       "    </tr>\n",
       "    <tr>\n",
       "      <th>159</th>\n",
       "      <td>spam</td>\n",
       "      <td>100</td>\n",
       "      <td>spam</td>\n",
       "      <td>Win the newest Harry Potter and the Order of ...</td>\n",
       "    </tr>\n",
       "    <tr>\n",
       "      <th>185</th>\n",
       "      <td>spam</td>\n",
       "      <td>99</td>\n",
       "      <td>spam</td>\n",
       "      <td>Rock yr chik. Get 100's of filthy films &amp;XXX p...</td>\n",
       "    </tr>\n",
       "    <tr>\n",
       "      <th>190</th>\n",
       "      <td>spam</td>\n",
       "      <td>100</td>\n",
       "      <td>spam</td>\n",
       "      <td>Sunshine Quiz Wkly Q! Win a top Sony DVD playe...</td>\n",
       "    </tr>\n",
       "    <tr>\n",
       "      <th>216</th>\n",
       "      <td>spam</td>\n",
       "      <td>100</td>\n",
       "      <td>spam</td>\n",
       "      <td>Customer service announcement. We recently tri...</td>\n",
       "    </tr>\n",
       "    <tr>\n",
       "      <th>221</th>\n",
       "      <td>spam</td>\n",
       "      <td>100</td>\n",
       "      <td>spam</td>\n",
       "      <td>Urgent! Please call 09061743811 from landline....</td>\n",
       "    </tr>\n",
       "    <tr>\n",
       "      <th>226</th>\n",
       "      <td>spam</td>\n",
       "      <td>100</td>\n",
       "      <td>spam</td>\n",
       "      <td>This is the 2nd time we have tried to contact ...</td>\n",
       "    </tr>\n",
       "    <tr>\n",
       "      <th>228</th>\n",
       "      <td>spam</td>\n",
       "      <td>100</td>\n",
       "      <td>spam</td>\n",
       "      <td>FREE for 1st week! No1 Nokia tone 4 ur mob eve...</td>\n",
       "    </tr>\n",
       "    <tr>\n",
       "      <th>236</th>\n",
       "      <td>spam</td>\n",
       "      <td>99</td>\n",
       "      <td>spam</td>\n",
       "      <td>&lt;Forwarded from 448712404000&gt;Please CALL 08712...</td>\n",
       "    </tr>\n",
       "    <tr>\n",
       "      <th>244</th>\n",
       "      <td>spam</td>\n",
       "      <td>100</td>\n",
       "      <td>spam</td>\n",
       "      <td>Mila, age23, blonde, new in UK. I look sex wit...</td>\n",
       "    </tr>\n",
       "    <tr>\n",
       "      <th>253</th>\n",
       "      <td>spam</td>\n",
       "      <td>100</td>\n",
       "      <td>spam</td>\n",
       "      <td>URGENT! Your Mobile number has been awarded wi...</td>\n",
       "    </tr>\n",
       "    <tr>\n",
       "      <th>264</th>\n",
       "      <td>spam</td>\n",
       "      <td>100</td>\n",
       "      <td>spam</td>\n",
       "      <td>Not heard from U4 a while. Call 4 rude chat pr...</td>\n",
       "    </tr>\n",
       "    <tr>\n",
       "      <th>275</th>\n",
       "      <td>spam</td>\n",
       "      <td>100</td>\n",
       "      <td>spam</td>\n",
       "      <td>GENT! We are trying to contact you. Last weeke...</td>\n",
       "    </tr>\n",
       "    <tr>\n",
       "      <th>281</th>\n",
       "      <td>spam</td>\n",
       "      <td>85</td>\n",
       "      <td>spam</td>\n",
       "      <td>Bloomberg -Message center +447797706009 Why wa...</td>\n",
       "    </tr>\n",
       "    <tr>\n",
       "      <th>293</th>\n",
       "      <td>spam</td>\n",
       "      <td>99</td>\n",
       "      <td>spam</td>\n",
       "      <td>it to 80488. Your 500 free text messages are v...</td>\n",
       "    </tr>\n",
       "    <tr>\n",
       "      <th>297</th>\n",
       "      <td>spam</td>\n",
       "      <td>100</td>\n",
       "      <td>spam</td>\n",
       "      <td>Hi there, 2nights ur lucky night! Uve been inv...</td>\n",
       "    </tr>\n",
       "    <tr>\n",
       "      <th>...</th>\n",
       "      <td>...</td>\n",
       "      <td>...</td>\n",
       "      <td>...</td>\n",
       "      <td>...</td>\n",
       "    </tr>\n",
       "    <tr>\n",
       "      <th>1542</th>\n",
       "      <td>spam</td>\n",
       "      <td>99</td>\n",
       "      <td>spam</td>\n",
       "      <td>New Tones This week include: 1)McFly-All Ab..,...</td>\n",
       "    </tr>\n",
       "    <tr>\n",
       "      <th>1560</th>\n",
       "      <td>spam</td>\n",
       "      <td>100</td>\n",
       "      <td>spam</td>\n",
       "      <td>Xmas Offer! Latest Motorola, SonyEricsson &amp; No...</td>\n",
       "    </tr>\n",
       "    <tr>\n",
       "      <th>1567</th>\n",
       "      <td>spam</td>\n",
       "      <td>100</td>\n",
       "      <td>spam</td>\n",
       "      <td>Camera - You are awarded a SiPix Digital Camer...</td>\n",
       "    </tr>\n",
       "    <tr>\n",
       "      <th>1570</th>\n",
       "      <td>spam</td>\n",
       "      <td>100</td>\n",
       "      <td>spam</td>\n",
       "      <td>URGENT! You have won a 1 week FREE membership ...</td>\n",
       "    </tr>\n",
       "    <tr>\n",
       "      <th>1574</th>\n",
       "      <td>spam</td>\n",
       "      <td>99</td>\n",
       "      <td>spam</td>\n",
       "      <td>You can donate £2.50 to UNICEF's Asian Tsunami...</td>\n",
       "    </tr>\n",
       "    <tr>\n",
       "      <th>1599</th>\n",
       "      <td>spam</td>\n",
       "      <td>100</td>\n",
       "      <td>spam</td>\n",
       "      <td>Get the official ENGLAND poly ringtone or colo...</td>\n",
       "    </tr>\n",
       "    <tr>\n",
       "      <th>1609</th>\n",
       "      <td>spam</td>\n",
       "      <td>100</td>\n",
       "      <td>spam</td>\n",
       "      <td>Loan for any purpose £500 - £75,000. Homeowner...</td>\n",
       "    </tr>\n",
       "    <tr>\n",
       "      <th>1619</th>\n",
       "      <td>spam</td>\n",
       "      <td>99</td>\n",
       "      <td>spam</td>\n",
       "      <td>Your next amazing xxx PICSFREE1 video will be ...</td>\n",
       "    </tr>\n",
       "    <tr>\n",
       "      <th>1626</th>\n",
       "      <td>spam</td>\n",
       "      <td>100</td>\n",
       "      <td>spam</td>\n",
       "      <td>Congratulations ur awarded either a yrs supply...</td>\n",
       "    </tr>\n",
       "    <tr>\n",
       "      <th>1632</th>\n",
       "      <td>spam</td>\n",
       "      <td>100</td>\n",
       "      <td>spam</td>\n",
       "      <td>FreeMSG You have been awarded a FREE mini DIGI...</td>\n",
       "    </tr>\n",
       "    <tr>\n",
       "      <th>1637</th>\n",
       "      <td>spam</td>\n",
       "      <td>100</td>\n",
       "      <td>spam</td>\n",
       "      <td>Congratulations YOU'VE Won. You're a Winner in...</td>\n",
       "    </tr>\n",
       "    <tr>\n",
       "      <th>1649</th>\n",
       "      <td>spam</td>\n",
       "      <td>100</td>\n",
       "      <td>spam</td>\n",
       "      <td>Free msg: Single? Find a partner in your area!...</td>\n",
       "    </tr>\n",
       "    <tr>\n",
       "      <th>1653</th>\n",
       "      <td>spam</td>\n",
       "      <td>99</td>\n",
       "      <td>spam</td>\n",
       "      <td>IMPORTANT MESSAGE. This is a final contact att...</td>\n",
       "    </tr>\n",
       "    <tr>\n",
       "      <th>1662</th>\n",
       "      <td>spam</td>\n",
       "      <td>99</td>\n",
       "      <td>spam</td>\n",
       "      <td>The current leading bid is 151. To pause this ...</td>\n",
       "    </tr>\n",
       "    <tr>\n",
       "      <th>1667</th>\n",
       "      <td>spam</td>\n",
       "      <td>100</td>\n",
       "      <td>spam</td>\n",
       "      <td>Shop till u Drop, IS IT YOU, either 10K, 5K, £...</td>\n",
       "    </tr>\n",
       "    <tr>\n",
       "      <th>1669</th>\n",
       "      <td>spam</td>\n",
       "      <td>99</td>\n",
       "      <td>spam</td>\n",
       "      <td>Your weekly Cool-Mob tones are ready to downlo...</td>\n",
       "    </tr>\n",
       "    <tr>\n",
       "      <th>1681</th>\n",
       "      <td>spam</td>\n",
       "      <td>100</td>\n",
       "      <td>spam</td>\n",
       "      <td>CDs 4u: Congratulations ur awarded £500 of CD ...</td>\n",
       "    </tr>\n",
       "    <tr>\n",
       "      <th>1724</th>\n",
       "      <td>spam</td>\n",
       "      <td>99</td>\n",
       "      <td>spam</td>\n",
       "      <td>88066 FROM 88066 LOST 3POUND HELP</td>\n",
       "    </tr>\n",
       "    <tr>\n",
       "      <th>1728</th>\n",
       "      <td>spam</td>\n",
       "      <td>100</td>\n",
       "      <td>spam</td>\n",
       "      <td>You have won a guaranteed 32000 award or maybe...</td>\n",
       "    </tr>\n",
       "    <tr>\n",
       "      <th>1735</th>\n",
       "      <td>spam</td>\n",
       "      <td>100</td>\n",
       "      <td>spam</td>\n",
       "      <td>1st wk FREE! Gr8 tones str8 2 u each wk. Txt N...</td>\n",
       "    </tr>\n",
       "    <tr>\n",
       "      <th>1747</th>\n",
       "      <td>spam</td>\n",
       "      <td>100</td>\n",
       "      <td>spam</td>\n",
       "      <td>Congrats 2 mobile 3G Videophones R yours. call...</td>\n",
       "    </tr>\n",
       "    <tr>\n",
       "      <th>1751</th>\n",
       "      <td>spam</td>\n",
       "      <td>99</td>\n",
       "      <td>spam</td>\n",
       "      <td>http//tms. widelive.com/index. wml?id=820554ad...</td>\n",
       "    </tr>\n",
       "    <tr>\n",
       "      <th>1753</th>\n",
       "      <td>spam</td>\n",
       "      <td>100</td>\n",
       "      <td>spam</td>\n",
       "      <td>URGENT! Last weekend's draw shows that you hav...</td>\n",
       "    </tr>\n",
       "    <tr>\n",
       "      <th>1767</th>\n",
       "      <td>spam</td>\n",
       "      <td>100</td>\n",
       "      <td>spam</td>\n",
       "      <td>URGENT We are trying to contact you Last weeke...</td>\n",
       "    </tr>\n",
       "    <tr>\n",
       "      <th>1778</th>\n",
       "      <td>spam</td>\n",
       "      <td>99</td>\n",
       "      <td>spam</td>\n",
       "      <td>Free msg. Sorry, a service you ordered from 81...</td>\n",
       "    </tr>\n",
       "    <tr>\n",
       "      <th>1782</th>\n",
       "      <td>spam</td>\n",
       "      <td>100</td>\n",
       "      <td>spam</td>\n",
       "      <td>SMS SERVICES. for your inclusive text credits,...</td>\n",
       "    </tr>\n",
       "    <tr>\n",
       "      <th>1791</th>\n",
       "      <td>spam</td>\n",
       "      <td>85</td>\n",
       "      <td>spam</td>\n",
       "      <td>Bloomberg -Message center +447797706009 Why wa...</td>\n",
       "    </tr>\n",
       "    <tr>\n",
       "      <th>1817</th>\n",
       "      <td>spam</td>\n",
       "      <td>100</td>\n",
       "      <td>spam</td>\n",
       "      <td>FREE RINGTONE text FIRST to 87131 for a poly o...</td>\n",
       "    </tr>\n",
       "    <tr>\n",
       "      <th>1825</th>\n",
       "      <td>spam</td>\n",
       "      <td>99</td>\n",
       "      <td>spam</td>\n",
       "      <td>ASKED 3MOBILE IF 0870 CHATLINES INCLU IN FREE ...</td>\n",
       "    </tr>\n",
       "    <tr>\n",
       "      <th>1838</th>\n",
       "      <td>spam</td>\n",
       "      <td>100</td>\n",
       "      <td>spam</td>\n",
       "      <td>PRIVATE! Your 2003 Account Statement for 07753...</td>\n",
       "    </tr>\n",
       "  </tbody>\n",
       "</table>\n",
       "<p>218 rows × 4 columns</p>\n",
       "</div>"
      ],
      "text/plain": [
       "      Pred  Prob(%) Actual                                               Text\n",
       "28    spam      100   spam  URGENT! We are trying to contact U Todays draw...\n",
       "42    spam      100   spam  Congrats! 2 mobile 3G Videophones R yours. cal...\n",
       "50    spam      100   spam  Double mins and txts 4 6months FREE Bluetooth ...\n",
       "55    spam       99   spam  Please CALL 08712402972 immediately as there i...\n",
       "58    spam      100   spam  Last chance 2 claim ur £150 worth of discount ...\n",
       "63    spam      100   spam  Sex up ur mobile with a FREE sexy pic of Jorda...\n",
       "74    spam      100   spam  SMS SERVICES. for your inclusive text credits,...\n",
       "82    spam      100   spam  Final Chance! Claim ur £150 worth of discount ...\n",
       "95    spam       99   spam  1000's flirting NOW! Txt GIRL or BLOKE & ur NA...\n",
       "102   spam      100   spam  Free 1st week entry 2 TEXTPOD 4 a chance 2 win...\n",
       "108   spam      100   spam  sports fans - get the latest sports news str* ...\n",
       "117   spam      100   spam  Had your mobile 11 months or more? U R entitle...\n",
       "119   spam       99   spam  CALL 09090900040 & LISTEN TO EXTREME DIRTY LIV...\n",
       "143   spam       99   spam  Adult 18 Content Your video will be with you s...\n",
       "156   spam      100   spam  I don't know u and u don't know me. Send CHAT ...\n",
       "159   spam      100   spam  Win the newest Harry Potter and the Order of ...\n",
       "185   spam       99   spam  Rock yr chik. Get 100's of filthy films &XXX p...\n",
       "190   spam      100   spam  Sunshine Quiz Wkly Q! Win a top Sony DVD playe...\n",
       "216   spam      100   spam  Customer service announcement. We recently tri...\n",
       "221   spam      100   spam  Urgent! Please call 09061743811 from landline....\n",
       "226   spam      100   spam  This is the 2nd time we have tried to contact ...\n",
       "228   spam      100   spam  FREE for 1st week! No1 Nokia tone 4 ur mob eve...\n",
       "236   spam       99   spam  <Forwarded from 448712404000>Please CALL 08712...\n",
       "244   spam      100   spam  Mila, age23, blonde, new in UK. I look sex wit...\n",
       "253   spam      100   spam  URGENT! Your Mobile number has been awarded wi...\n",
       "264   spam      100   spam  Not heard from U4 a while. Call 4 rude chat pr...\n",
       "275   spam      100   spam  GENT! We are trying to contact you. Last weeke...\n",
       "281   spam       85   spam  Bloomberg -Message center +447797706009 Why wa...\n",
       "293   spam       99   spam  it to 80488. Your 500 free text messages are v...\n",
       "297   spam      100   spam  Hi there, 2nights ur lucky night! Uve been inv...\n",
       "...    ...      ...    ...                                                ...\n",
       "1542  spam       99   spam  New Tones This week include: 1)McFly-All Ab..,...\n",
       "1560  spam      100   spam  Xmas Offer! Latest Motorola, SonyEricsson & No...\n",
       "1567  spam      100   spam  Camera - You are awarded a SiPix Digital Camer...\n",
       "1570  spam      100   spam  URGENT! You have won a 1 week FREE membership ...\n",
       "1574  spam       99   spam  You can donate £2.50 to UNICEF's Asian Tsunami...\n",
       "1599  spam      100   spam  Get the official ENGLAND poly ringtone or colo...\n",
       "1609  spam      100   spam  Loan for any purpose £500 - £75,000. Homeowner...\n",
       "1619  spam       99   spam  Your next amazing xxx PICSFREE1 video will be ...\n",
       "1626  spam      100   spam  Congratulations ur awarded either a yrs supply...\n",
       "1632  spam      100   spam  FreeMSG You have been awarded a FREE mini DIGI...\n",
       "1637  spam      100   spam  Congratulations YOU'VE Won. You're a Winner in...\n",
       "1649  spam      100   spam  Free msg: Single? Find a partner in your area!...\n",
       "1653  spam       99   spam  IMPORTANT MESSAGE. This is a final contact att...\n",
       "1662  spam       99   spam  The current leading bid is 151. To pause this ...\n",
       "1667  spam      100   spam  Shop till u Drop, IS IT YOU, either 10K, 5K, £...\n",
       "1669  spam       99   spam  Your weekly Cool-Mob tones are ready to downlo...\n",
       "1681  spam      100   spam  CDs 4u: Congratulations ur awarded £500 of CD ...\n",
       "1724  spam       99   spam                  88066 FROM 88066 LOST 3POUND HELP\n",
       "1728  spam      100   spam  You have won a guaranteed 32000 award or maybe...\n",
       "1735  spam      100   spam  1st wk FREE! Gr8 tones str8 2 u each wk. Txt N...\n",
       "1747  spam      100   spam  Congrats 2 mobile 3G Videophones R yours. call...\n",
       "1751  spam       99   spam  http//tms. widelive.com/index. wml?id=820554ad...\n",
       "1753  spam      100   spam  URGENT! Last weekend's draw shows that you hav...\n",
       "1767  spam      100   spam  URGENT We are trying to contact you Last weeke...\n",
       "1778  spam       99   spam  Free msg. Sorry, a service you ordered from 81...\n",
       "1782  spam      100   spam  SMS SERVICES. for your inclusive text credits,...\n",
       "1791  spam       85   spam  Bloomberg -Message center +447797706009 Why wa...\n",
       "1817  spam      100   spam  FREE RINGTONE text FIRST to 87131 for a poly o...\n",
       "1825  spam       99   spam  ASKED 3MOBILE IF 0870 CHATLINES INCLU IN FREE ...\n",
       "1838  spam      100   spam  PRIVATE! Your 2003 Account Statement for 07753...\n",
       "\n",
       "[218 rows x 4 columns]"
      ]
     },
     "execution_count": 101,
     "metadata": {},
     "output_type": "execute_result"
    }
   ],
   "source": [
    "check[(check.Pred == check.Actual) & (check.Pred == 'spam')]"
   ]
  },
  {
   "cell_type": "markdown",
   "metadata": {
    "slideshow": {
     "slide_type": "slide"
    }
   },
   "source": [
    "## Classification errors:"
   ]
  },
  {
   "cell_type": "code",
   "execution_count": 102,
   "metadata": {
    "collapsed": false,
    "scrolled": true,
    "slideshow": {
     "slide_type": "fragment"
    }
   },
   "outputs": [
    {
     "name": "stdout",
     "output_type": "stream",
     "text": [
      "Misclassified Messages:\n"
     ]
    },
    {
     "data": {
      "text/html": [
       "<div>\n",
       "<table border=\"1\" class=\"dataframe\">\n",
       "  <thead>\n",
       "    <tr style=\"text-align: right;\">\n",
       "      <th></th>\n",
       "      <th>Pred</th>\n",
       "      <th>Prob(%)</th>\n",
       "      <th>Actual</th>\n",
       "      <th>Text</th>\n",
       "    </tr>\n",
       "  </thead>\n",
       "  <tbody>\n",
       "    <tr>\n",
       "      <th>18</th>\n",
       "      <td>spam</td>\n",
       "      <td>99</td>\n",
       "      <td>ham</td>\n",
       "      <td>Yun ah.the ubi one say if ü wan call by tomorr...</td>\n",
       "    </tr>\n",
       "    <tr>\n",
       "      <th>78</th>\n",
       "      <td>ham</td>\n",
       "      <td>4</td>\n",
       "      <td>spam</td>\n",
       "      <td>Dorothy@kiefer.com (Bank of Granite issues Str...</td>\n",
       "    </tr>\n",
       "    <tr>\n",
       "      <th>147</th>\n",
       "      <td>ham</td>\n",
       "      <td>1</td>\n",
       "      <td>spam</td>\n",
       "      <td>Oh my god! I've found your number again! I'm s...</td>\n",
       "    </tr>\n",
       "    <tr>\n",
       "      <th>183</th>\n",
       "      <td>ham</td>\n",
       "      <td>0</td>\n",
       "      <td>spam</td>\n",
       "      <td>LIFE has never been this much fun and great un...</td>\n",
       "    </tr>\n",
       "    <tr>\n",
       "      <th>239</th>\n",
       "      <td>ham</td>\n",
       "      <td>8</td>\n",
       "      <td>spam</td>\n",
       "      <td>ROMCAPspam Everyone around should be respondin...</td>\n",
       "    </tr>\n",
       "    <tr>\n",
       "      <th>274</th>\n",
       "      <td>ham</td>\n",
       "      <td>1</td>\n",
       "      <td>spam</td>\n",
       "      <td>(Bank of Granite issues Strong-Buy) EXPLOSIVE ...</td>\n",
       "    </tr>\n",
       "    <tr>\n",
       "      <th>352</th>\n",
       "      <td>ham</td>\n",
       "      <td>3</td>\n",
       "      <td>spam</td>\n",
       "      <td>TBS/PERSOLVO. been chasing us since Sept for£3...</td>\n",
       "    </tr>\n",
       "    <tr>\n",
       "      <th>490</th>\n",
       "      <td>ham</td>\n",
       "      <td>0</td>\n",
       "      <td>spam</td>\n",
       "      <td>Do you ever notice that when you're driving, a...</td>\n",
       "    </tr>\n",
       "    <tr>\n",
       "      <th>522</th>\n",
       "      <td>ham</td>\n",
       "      <td>0</td>\n",
       "      <td>spam</td>\n",
       "      <td>In The Simpsons Movie released in July 2007 na...</td>\n",
       "    </tr>\n",
       "    <tr>\n",
       "      <th>572</th>\n",
       "      <td>ham</td>\n",
       "      <td>20</td>\n",
       "      <td>spam</td>\n",
       "      <td>Block Breaker now comes in deluxe format with ...</td>\n",
       "    </tr>\n",
       "    <tr>\n",
       "      <th>590</th>\n",
       "      <td>ham</td>\n",
       "      <td>20</td>\n",
       "      <td>spam</td>\n",
       "      <td>RCT' THNQ Adrian for U text. Rgds Vatian</td>\n",
       "    </tr>\n",
       "    <tr>\n",
       "      <th>698</th>\n",
       "      <td>ham</td>\n",
       "      <td>0</td>\n",
       "      <td>spam</td>\n",
       "      <td>Hello darling how are you today? I would love ...</td>\n",
       "    </tr>\n",
       "    <tr>\n",
       "      <th>709</th>\n",
       "      <td>ham</td>\n",
       "      <td>0</td>\n",
       "      <td>spam</td>\n",
       "      <td>Sorry I missed your call let's talk when you h...</td>\n",
       "    </tr>\n",
       "    <tr>\n",
       "      <th>797</th>\n",
       "      <td>ham</td>\n",
       "      <td>14</td>\n",
       "      <td>spam</td>\n",
       "      <td>Money i have won wining number 946 wot do i do...</td>\n",
       "    </tr>\n",
       "    <tr>\n",
       "      <th>816</th>\n",
       "      <td>ham</td>\n",
       "      <td>0</td>\n",
       "      <td>spam</td>\n",
       "      <td>Xmas &amp; New Years Eve tickets are now on sale f...</td>\n",
       "    </tr>\n",
       "    <tr>\n",
       "      <th>1062</th>\n",
       "      <td>spam</td>\n",
       "      <td>89</td>\n",
       "      <td>ham</td>\n",
       "      <td>what number do u live at? Is it 11?</td>\n",
       "    </tr>\n",
       "    <tr>\n",
       "      <th>1153</th>\n",
       "      <td>ham</td>\n",
       "      <td>36</td>\n",
       "      <td>spam</td>\n",
       "      <td>Hi babe its Jordan, how r u? Im home from abro...</td>\n",
       "    </tr>\n",
       "    <tr>\n",
       "      <th>1156</th>\n",
       "      <td>spam</td>\n",
       "      <td>99</td>\n",
       "      <td>ham</td>\n",
       "      <td>Hey...Great deal...Farm tour 9am to 5pm $95/pa...</td>\n",
       "    </tr>\n",
       "    <tr>\n",
       "      <th>1180</th>\n",
       "      <td>ham</td>\n",
       "      <td>0</td>\n",
       "      <td>spam</td>\n",
       "      <td>Missed call alert. These numbers called but le...</td>\n",
       "    </tr>\n",
       "    <tr>\n",
       "      <th>1204</th>\n",
       "      <td>ham</td>\n",
       "      <td>0</td>\n",
       "      <td>spam</td>\n",
       "      <td>Babe: U want me dont u baby! Im nasty and have...</td>\n",
       "    </tr>\n",
       "    <tr>\n",
       "      <th>1363</th>\n",
       "      <td>ham</td>\n",
       "      <td>0</td>\n",
       "      <td>spam</td>\n",
       "      <td>Did you hear about the new \"Divorce Barbie\"? I...</td>\n",
       "    </tr>\n",
       "    <tr>\n",
       "      <th>1499</th>\n",
       "      <td>ham</td>\n",
       "      <td>0</td>\n",
       "      <td>spam</td>\n",
       "      <td>Hi ya babe x u 4goten bout me?' scammers getti...</td>\n",
       "    </tr>\n",
       "    <tr>\n",
       "      <th>1655</th>\n",
       "      <td>ham</td>\n",
       "      <td>0</td>\n",
       "      <td>spam</td>\n",
       "      <td>dating:i have had two of these. Only started a...</td>\n",
       "    </tr>\n",
       "    <tr>\n",
       "      <th>1712</th>\n",
       "      <td>ham</td>\n",
       "      <td>0</td>\n",
       "      <td>spam</td>\n",
       "      <td>Santa Calling! Would your little ones like a c...</td>\n",
       "    </tr>\n",
       "  </tbody>\n",
       "</table>\n",
       "</div>"
      ],
      "text/plain": [
       "      Pred  Prob(%) Actual                                               Text\n",
       "18    spam       99    ham  Yun ah.the ubi one say if ü wan call by tomorr...\n",
       "78     ham        4   spam  Dorothy@kiefer.com (Bank of Granite issues Str...\n",
       "147    ham        1   spam  Oh my god! I've found your number again! I'm s...\n",
       "183    ham        0   spam  LIFE has never been this much fun and great un...\n",
       "239    ham        8   spam  ROMCAPspam Everyone around should be respondin...\n",
       "274    ham        1   spam  (Bank of Granite issues Strong-Buy) EXPLOSIVE ...\n",
       "352    ham        3   spam  TBS/PERSOLVO. been chasing us since Sept for£3...\n",
       "490    ham        0   spam  Do you ever notice that when you're driving, a...\n",
       "522    ham        0   spam  In The Simpsons Movie released in July 2007 na...\n",
       "572    ham       20   spam  Block Breaker now comes in deluxe format with ...\n",
       "590    ham       20   spam           RCT' THNQ Adrian for U text. Rgds Vatian\n",
       "698    ham        0   spam  Hello darling how are you today? I would love ...\n",
       "709    ham        0   spam  Sorry I missed your call let's talk when you h...\n",
       "797    ham       14   spam  Money i have won wining number 946 wot do i do...\n",
       "816    ham        0   spam  Xmas & New Years Eve tickets are now on sale f...\n",
       "1062  spam       89    ham                what number do u live at? Is it 11?\n",
       "1153   ham       36   spam  Hi babe its Jordan, how r u? Im home from abro...\n",
       "1156  spam       99    ham  Hey...Great deal...Farm tour 9am to 5pm $95/pa...\n",
       "1180   ham        0   spam  Missed call alert. These numbers called but le...\n",
       "1204   ham        0   spam  Babe: U want me dont u baby! Im nasty and have...\n",
       "1363   ham        0   spam  Did you hear about the new \"Divorce Barbie\"? I...\n",
       "1499   ham        0   spam  Hi ya babe x u 4goten bout me?' scammers getti...\n",
       "1655   ham        0   spam  dating:i have had two of these. Only started a...\n",
       "1712   ham        0   spam  Santa Calling! Would your little ones like a c..."
      ]
     },
     "execution_count": 102,
     "metadata": {},
     "output_type": "execute_result"
    }
   ],
   "source": [
    "print('Misclassified Messages:')\n",
    "check[check.Pred != check.Actual]"
   ]
  },
  {
   "cell_type": "markdown",
   "metadata": {
    "slideshow": {
     "slide_type": "slide"
    }
   },
   "source": [
    "# Other applications\n",
    "1. Sentiment Analysis (one approach is to treat it as a classification problem)\n",
    "2. Topic Extraction [(LDA is a very effective algorithm)](http://scikit-learn.org/stable/modules/generated/sklearn.decomposition.LatentDirichletAllocation.html)\n",
    "\n",
    "&nbsp;\n",
    "\n",
    "# Additional resources\n",
    "\n",
    "1. [Twenty newsgroups dataset (commonly used for text classification exercises and part of Scikit-Learn)](http://scikit-learn.org/stable/datasets/index.html#the-20-newsgroups-text-dataset)\n",
    "2. [Reuters corpus volume (another common benchmark)](http://jmlr.csail.mit.edu/papers/volume5/lewis04a/)\n",
    "2. [Python Natural Language Toolkit](http://www.nltk.org/)\n",
    "2. [Sentiment analysis demo trained on movie reviews](http://text-processing.com/demo/sentiment/)"
   ]
  },
  {
   "cell_type": "markdown",
   "metadata": {
    "slideshow": {
     "slide_type": "slide"
    }
   },
   "source": [
    "# Questions?\n"
   ]
  }
 ],
 "metadata": {
  "celltoolbar": "Slideshow",
  "kernelspec": {
   "display_name": "Python 2",
   "language": "python",
   "name": "python2"
  },
  "language_info": {
   "codemirror_mode": {
    "name": "ipython",
    "version": 2
   },
   "file_extension": ".py",
   "mimetype": "text/x-python",
   "name": "python",
   "nbconvert_exporter": "python",
   "pygments_lexer": "ipython2",
   "version": "2.7.10"
  }
 },
 "nbformat": 4,
 "nbformat_minor": 1
}
